{
  "nbformat": 4,
  "nbformat_minor": 0,
  "metadata": {
    "colab": {
      "provenance": [],
      "gpuType": "T4"
    },
    "kernelspec": {
      "name": "python3",
      "display_name": "Python 3"
    },
    "language_info": {
      "name": "python"
    },
    "accelerator": "GPU"
  },
  "cells": [
    {
      "cell_type": "code",
      "execution_count": 4,
      "metadata": {
        "id": "9yFD1SyVwM-q"
      },
      "outputs": [],
      "source": [
        "from google.colab import drive\n",
        "import torch\n",
        "import numpy as np\n",
        "import torch.nn.functional as F\n",
        "import torch.nn as nn\n",
        "import matplotlib.pyplot as plt\n",
        "import random\n",
        "\n",
        "device = torch.device(\"cuda\" if torch.cuda.is_available() else \"cpu\")"
      ]
    },
    {
      "cell_type": "code",
      "source": [
        "class SimpleRnn(nn.Module):\n",
        "  def __init__(self, input_size, hidden_size, output_size):\n",
        "    super(SimpleRnn, self).__init__()\n",
        "\n",
        "    self.W_xh = nn.Parameter(torch.randn(input_size, hidden_size).to(device))\n",
        "    self.W_hh = nn.Parameter(torch.randn(hidden_size, hidden_size).to(device))\n",
        "    self.b_h = nn.Parameter(torch.zeros(hidden_size).to(device))\n",
        "\n",
        "    self.W_yh = nn.Parameter(torch.randn(hidden_size, output_size).to(device))\n",
        "    self.b_y = nn.Parameter(torch.zeros(output_size).to(device))\n",
        "\n",
        "  def forward(self, x):\n",
        "    batch_size, seq_length, _ = x.size()\n",
        "\n",
        "    h = torch.zeros(batch_size, self.W_hh.size(0), device=device)\n",
        "\n",
        "    for i in range(seq_length):\n",
        "      xt = x[:, i, :]\n",
        "      h = torch.tanh(torch.matmul(xt, self.W_xh) + torch.matmul(h, self.W_hh) + self.b_h)\n",
        "\n",
        "    y = torch.matmul(h, self.W_yh) + self.b_y\n",
        "    return y"
      ],
      "metadata": {
        "id": "BzVt8ZixRTqE"
      },
      "execution_count": 5,
      "outputs": []
    },
    {
      "cell_type": "code",
      "source": [
        "# creating model\n",
        "g = torch.Generator(device=device).manual_seed(2)\n",
        "\n",
        "C_dimensions = 30\n",
        "\n",
        "class Model(nn.Module):\n",
        "  def __init__(self, rnn_hidden_size=700):\n",
        "    super(Model, self).__init__()\n",
        "    self.C = torch.randn(len(tokens), C_dimensions, generator=g, device=device)\n",
        "\n",
        "    self.rnn = SimpleRnn(input_size=C_dimensions, hidden_size=rnn_hidden_size, output_size=rnn_hidden_size)\n",
        "\n",
        "    self.L1_size = 1500\n",
        "    self.W1 = torch.randn(rnn_hidden_size, self.L1_size, generator=g, device=device)\n",
        "    self.B1 = torch.randn(self.L1_size, generator=g, device=device)\n",
        "\n",
        "    self.W2 = torch.randn(self.L1_size, len(tokens), generator=g, device=device)\n",
        "    self.B2 = torch.randn(len(tokens), generator=g, device=device)\n",
        "\n",
        "    self.p = [self.C, self.W1, self.B1, self.W2, self.B2]\n",
        "\n",
        "    for param in self.p:\n",
        "      param.requires_grad = True\n",
        "\n",
        "  def forward(self, x):\n",
        "    emb = self.C[x]\n",
        "\n",
        "    rnn_output = self.rnn(emb)\n",
        "\n",
        "    h = torch.tanh(rnn_output @ self.W1 + self.B1)\n",
        "    logits = h @ self.W2 + self.B2\n",
        "    return logits\n",
        "\n",
        "  def forward_train(self, x, y):\n",
        "    logits = self.forward(x)\n",
        "    loss = F.cross_entropy(logits, y)\n",
        "    return loss\n"
      ],
      "metadata": {
        "id": "zV9FbLVqQfrx"
      },
      "execution_count": 6,
      "outputs": []
    },
    {
      "cell_type": "markdown",
      "source": [
        "# Shecspir Dataset"
      ],
      "metadata": {
        "id": "VYNfrDwvXKFY"
      }
    },
    {
      "cell_type": "code",
      "source": [
        "import requests\n",
        "\n",
        "url = \"https://ocw.mit.edu/ans7870/6/6.006/s08/lecturenotes/files/t8.shakespeare.txt\"\n",
        "\n",
        "text_data = requests.get(url)\n",
        "text_data = text_data.text"
      ],
      "metadata": {
        "id": "psDwI-9bXH8b"
      },
      "execution_count": 7,
      "outputs": []
    },
    {
      "cell_type": "code",
      "source": [
        "# genereting tokens\n",
        "tokens = []\n",
        "\n",
        "for letter in text_data:\n",
        "  if letter not in tokens:\n",
        "    tokens.append(letter)\n",
        "\n",
        "tokens.sort()\n",
        "tokens = [\".\"] + tokens\n",
        "stoi = {}\n",
        "itos = {}\n",
        "for i in range(len(tokens)):\n",
        "  itos[i] = tokens[i]\n",
        "  stoi[tokens[i]] = i\n",
        "tokens_length = len(stoi)\n",
        "\n",
        "# transform to tokens\n",
        "X = []\n",
        "Y = []\n",
        "\n",
        "for i in range(len(text_data) - 1):\n",
        "  X.append(stoi[text_data[i]])\n",
        "  Y.append(stoi[text_data[i + 1]])\n",
        "\n",
        "X_tensor = torch.tensor(X)\n",
        "Y_tensor = torch.tensor(Y)\n",
        "\n",
        "train_size = int(len(X_tensor) * 0.8)\n",
        "val_size = int(len(X_tensor) * 0.1)\n",
        "\n",
        "X_train, Y_train = X_tensor[:train_size], Y_tensor[:train_size]\n",
        "X_val, Y_val = X_tensor[train_size:train_size + val_size], Y_tensor[train_size:train_size + val_size]\n",
        "X_test, Y_test = X_tensor[train_size + val_size:], Y_tensor[train_size + val_size:]"
      ],
      "metadata": {
        "id": "zRjr3IIUYfGG"
      },
      "execution_count": 8,
      "outputs": []
    },
    {
      "cell_type": "code",
      "source": [
        "model = Model().to(device)"
      ],
      "metadata": {
        "id": "vdTqBrmIfe50"
      },
      "execution_count": 9,
      "outputs": []
    },
    {
      "cell_type": "code",
      "source": [
        "loss_ar = []\n",
        "loss = torch.tensor(0)\n",
        "\n",
        "batch_size = 320\n",
        "context_length = 10\n",
        "\n",
        "for k in range(2000):\n",
        "  if k % 100 == 0:\n",
        "    print(k, loss.item())\n",
        "  ix = torch.randint(0, X_train.shape[0] - context_length, (batch_size,), device=device)\n",
        "\n",
        "  X_batch = torch.stack([X_train[i:i+context_length] for i in ix])\n",
        "  Y_batch = torch.stack([Y_train[i+context_length] for i in ix])\n",
        "\n",
        "  X_batch = X_batch.to(device)\n",
        "  Y_batch = Y_batch.to(device)\n",
        "\n",
        "  # forward pass\n",
        "  loss = model.forward_train(X_batch, Y_batch)\n",
        "\n",
        "  # backward pass\n",
        "  for param in model.p:\n",
        "    param.grad = None\n",
        "  loss.backward()\n",
        "  if k < 1000:\n",
        "    lr = 0.1\n",
        "  else:\n",
        "    lr = 0.01\n",
        "  for param in model.p:\n",
        "    param.data += -lr * param.grad\n",
        "\n",
        "  loss_ar += [loss.item()]\n",
        "plt.plot(loss_ar)\n"
      ],
      "metadata": {
        "colab": {
          "base_uri": "https://localhost:8080/",
          "height": 795
        },
        "id": "zIa78K8Ra2Q0",
        "outputId": "fb09b816-2bfc-42c1-f39a-6ff73cab536f"
      },
      "execution_count": 10,
      "outputs": [
        {
          "output_type": "stream",
          "name": "stdout",
          "text": [
            "0 0\n",
            "100 21.430524826049805\n",
            "200 14.98901081085205\n",
            "300 14.498205184936523\n",
            "400 11.530359268188477\n",
            "500 8.058822631835938\n",
            "600 8.519899368286133\n",
            "700 9.20036792755127\n",
            "800 7.343405246734619\n",
            "900 7.330499172210693\n",
            "1000 7.480223655700684\n",
            "1100 6.04953145980835\n",
            "1200 5.467019557952881\n",
            "1300 5.703136920928955\n",
            "1400 4.96088981628418\n",
            "1500 6.040004730224609\n",
            "1600 7.175450325012207\n",
            "1700 5.039032936096191\n",
            "1800 5.155941963195801\n",
            "1900 5.530125141143799\n"
          ]
        },
        {
          "output_type": "execute_result",
          "data": {
            "text/plain": [
              "[<matplotlib.lines.Line2D at 0x7faa70484d00>]"
            ]
          },
          "metadata": {},
          "execution_count": 10
        },
        {
          "output_type": "display_data",
          "data": {
            "text/plain": [
              "<Figure size 640x480 with 1 Axes>"
            ],
            "image/png": "[encoded data removed]"
          },
          "metadata": {}
        }
      ]
    },
    {
      "cell_type": "code",
      "source": [
        "# test dataset\n",
        "ix = torch.randint(0, X_test.shape[0] - context_length, (1000,), device=device)\n",
        "\n",
        "X_batch = torch.stack([X_test[i:i+context_length] for i in ix])\n",
        "Y_batch = torch.stack([X_test[i+context_length] for i in ix])\n",
        "X_batch = X_batch.to(device)\n",
        "Y_batch = Y_batch.to(device)\n",
        "model.forward_train(X_batch, Y_batch)\n",
        "loss.item()"
      ],
      "metadata": {
        "colab": {
          "base_uri": "https://localhost:8080/"
        },
        "id": "TO7gNpfxa39M",
        "outputId": "cc234d0c-afd9-4e2d-975b-59d48c50dbf5"
      },
      "execution_count": 14,
      "outputs": [
        {
          "output_type": "execute_result",
          "data": {
            "text/plain": [
              "4.744330406188965"
            ]
          },
          "metadata": {},
          "execution_count": 14
        }
      ]
    },
    {
      "cell_type": "code",
      "source": [
        "# validate dataset\n",
        "ix = torch.randint(0, X_val.shape[0] - context_length, (1000,), device=device)\n",
        "\n",
        "X_batch = torch.stack([X_val[i:i+context_length] for i in ix])\n",
        "Y_batch = torch.stack([Y_val[i+context_length] for i in ix])\n",
        "X_batch = X_batch.to(device)\n",
        "Y_batch = Y_batch.to(device)\n",
        "model.forward_train(X_batch, Y_batch)\n",
        "loss.item()"
      ],
      "metadata": {
        "colab": {
          "base_uri": "https://localhost:8080/"
        },
        "id": "p6oAkqrea3yN",
        "outputId": "649c085f-baba-46fb-bb83-0df4a0c9795d"
      },
      "execution_count": 16,
      "outputs": [
        {
          "output_type": "execute_result",
          "data": {
            "text/plain": [
              "4.744330406188965"
            ]
          },
          "metadata": {},
          "execution_count": 16
        }
      ]
    },
    {
      "cell_type": "code",
      "source": [
        "def generate_content(model, start_token, max_length=100, temperature = 1):\n",
        "  model.eval()\n",
        "\n",
        "  context = [start_token] * context_length\n",
        "  generated_tokens = context.copy()\n",
        "\n",
        "  context_tensor = torch.tensor(context, dtype=torch.long, device=device).unsqueeze(0)\n",
        "\n",
        "  with torch.no_grad():\n",
        "    for _ in range(max_length):\n",
        "      logits = model(context_tensor)\n",
        "      logits = logits / temperature\n",
        "      probs = F.softmax(logits, dim=-1)\n",
        "      next_token = torch.multinomial(probs, 1).item()\n",
        "\n",
        "      generated_tokens.append(next_token)\n",
        "\n",
        "      context_tensor = torch.cat([context_tensor[:, 1:], torch.tensor([[next_token]], device=device)], dim=1)\n",
        "\n",
        "  generated_text = ''.join([itos[idx] for idx in generated_tokens])\n",
        "\n",
        "  return generated_text"
      ],
      "metadata": {
        "id": "U_T8DfEbciwc"
      },
      "execution_count": 63,
      "outputs": []
    },
    {
      "cell_type": "code",
      "source": [
        "start_token = stoi[\"w\"]\n",
        "\n",
        "generated_text = generate_content(model, start_token=start_token, max_length=500)\n",
        "\n",
        "# Print the generated content\n",
        "print(generated_text)"
      ],
      "metadata": {
        "colab": {
          "base_uri": "https://localhost:8080/"
        },
        "id": "ncDJloxJc7QA",
        "outputId": "5f0e0e54-3bb3-4640-a5a3-b6cb8621e872"
      },
      "execution_count": 64,
      "outputs": [
        {
          "output_type": "stream",
          "name": "stdout",
          "text": [
            "wwwwwwwwwwtu a hoeed  o o ' e, o r E(D0~Wa l. e  nei nh  a aetf8x`i oe ehses\n",
            " Adyaeka usladt,t ha  y ee   ao  ys yorae   nt yl. arnue p  orb<&ob HR. aOMBT  i  i f tnt/,snt  uhls, eciknu l n(geo,tdml  anod\n",
            " eise  ALbdei'l PGRSaeek%*fyuhvorno t\n",
            " oeca nnehsage yu nat  as hmneinyw es, onU[ ot e oecrcal  hrseo FxPD]    odan e  ottra o   o x[us,TR. T Exuiseko hbuhtf8s ohe. dsogt gtuuh y\n",
            " om hn e ol esao tyl eho uad e ohmt   \n",
            " ihv htuilyusca  aymntrhns  rete A2OMU uhan ae G\n",
            " htuegds  aeetohed hvnt  h e I AL)>q}I\n"
          ]
        }
      ]
    }
  ]
}