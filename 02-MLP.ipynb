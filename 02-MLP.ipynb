{
  "nbformat": 4,
  "nbformat_minor": 0,
  "metadata": {
    "colab": {
      "provenance": [],
      "gpuType": "T4"
    },
    "kernelspec": {
      "name": "python3",
      "display_name": "Python 3"
    },
    "language_info": {
      "name": "python"
    },
    "accelerator": "GPU"
  },
  "cells": [
    {
      "cell_type": "code",
      "execution_count": 1,
      "metadata": {
        "colab": {
          "base_uri": "https://localhost:8080/"
        },
        "id": "R9Tz_1Wxi_fS",
        "outputId": "58e4e9f8-c140-4833-c44c-e61356b33df3"
      },
      "outputs": [
        {
          "output_type": "stream",
          "name": "stdout",
          "text": [
            "Mounted at /content/drive\n"
          ]
        }
      ],
      "source": [
        "# open training file\n",
        "# link to file with names: https://github.com/karpathy/makemore/blob/master/names.txt\n",
        "from google.colab import drive\n",
        "import torch\n",
        "import numpy as np\n",
        "import torch.nn.functional as F\n",
        "\n",
        "import matplotlib.pyplot as plt\n",
        "import random\n",
        "\n",
        "drive.mount('/content/drive')\n",
        "\n",
        "file_path = 'drive/MyDrive/Colab Notebooks/models/names.txt'\n",
        "words = open(file_path, 'r').read().splitlines()"
      ]
    },
    {
      "cell_type": "code",
      "source": [
        "# genereting tokens\n",
        "tokens = []\n",
        "\n",
        "for word in words:\n",
        "  for letter in word:\n",
        "    if letter not in tokens:\n",
        "      tokens.append(letter)\n",
        "\n",
        "tokens.sort()\n",
        "tokens = [\".\"] + tokens\n",
        "stoi = {}\n",
        "itos = {}\n",
        "for i in range(len(tokens)):\n",
        "  itos[i] = tokens[i]\n",
        "  stoi[tokens[i]] = i"
      ],
      "metadata": {
        "id": "FQRn9wdbjQaG"
      },
      "execution_count": 2,
      "outputs": []
    },
    {
      "cell_type": "code",
      "source": [
        "# genereting training arrays\n",
        "X_ar = []\n",
        "Y_ar = []\n",
        "\n",
        "prepared_words = []\n",
        "\n",
        "for word in words:\n",
        "  prepared_words.append(word + \".\")\n",
        "\n",
        "CONTEXT_LENGTH = 5\n",
        "for word in prepared_words:\n",
        "  context = [stoi[\".\"]] * CONTEXT_LENGTH\n",
        "  for letter in word:\n",
        "    X_ar.append(context)\n",
        "    Y_ar.append(stoi[letter])\n",
        "\n",
        "    context = context[1:] + [stoi[letter]]"
      ],
      "metadata": {
        "id": "XicOPBjQjnyO"
      },
      "execution_count": 3,
      "outputs": []
    },
    {
      "cell_type": "code",
      "source": [
        "# creating parameters\n",
        "g = torch.Generator().manual_seed(2)\n",
        "\n",
        "C_dimensions = 30\n",
        "\n",
        "C = torch.randn(len(tokens), C_dimensions, generator=g)\n",
        "\n",
        "L1_size = 700\n",
        "W1 = torch.randn(CONTEXT_LENGTH * C_dimensions, L1_size, generator=g)\n",
        "B1 = torch.randn(L1_size, generator=g)\n",
        "\n",
        "W2 = torch.randn(L1_size, len(tokens), generator=g)\n",
        "B2 = torch.randn(len(tokens), generator=g)\n",
        "\n",
        "p = [C, W1, B1, W2, B2]\n",
        "\n",
        "for param in p:\n",
        "  param.requires_grad = True"
      ],
      "metadata": {
        "id": "DkmFGDdBkViE"
      },
      "execution_count": 21,
      "outputs": []
    },
    {
      "cell_type": "code",
      "source": [
        "# dividing datasets\n",
        "def build_dataset(list):\n",
        "  X, Y = [], []\n",
        "\n",
        "  for item in list:\n",
        "    X.append(item[0])\n",
        "    Y.append(item[1])\n",
        "\n",
        "\n",
        "  return torch.tensor(X), torch.tensor(Y)\n",
        "\n",
        "train_dat = []\n",
        "for i in range(len(X_ar)):\n",
        "  train_dat.append([X_ar[i], Y_ar[i]])\n",
        "\n",
        "random.shuffle(train_dat)\n",
        "n1 = int(len(X_ar) * 0.8)\n",
        "n2 = int(len(X_ar) * 0.9)\n",
        "\n",
        "X_train, Y_train = build_dataset(train_dat[:n1])\n",
        "X_dev, Y_dev = build_dataset(train_dat[n1:n2])\n",
        "X_val, Y_val = build_dataset(train_dat[n2:])"
      ],
      "metadata": {
        "id": "CWEIP8q7ANJV"
      },
      "execution_count": 5,
      "outputs": []
    },
    {
      "cell_type": "code",
      "source": [
        "loss_ar = []\n",
        "\n",
        "for k in range(20000):\n",
        "  if k % 1000 == 0:\n",
        "    print(k, loss.item())\n",
        "  ix = torch.randint(3, X_train.shape[0], (100,))\n",
        "\n",
        "  # forward pass\n",
        "  emb = C[X_train[ix]]\n",
        "  h = torch.tanh(emb.view(-1, C_dimensions * CONTEXT_LENGTH) @ W1 + B1)\n",
        "  logits = h @ W2 + B2\n",
        "  loss = F.cross_entropy(logits, Y_train[ix])\n",
        "\n",
        "  # backward pass\n",
        "  for param in p:\n",
        "    param.grad = None\n",
        "  loss.backward()\n",
        "  if k < 20000:\n",
        "    lr = 0.1\n",
        "  else:\n",
        "    lr = 0.01\n",
        "  for param in p:\n",
        "    param.data += -lr * param.grad\n",
        "\n",
        "  loss_ar += [loss.item()]\n",
        "plt.plot(loss_ar)"
      ],
      "metadata": {
        "colab": {
          "base_uri": "https://localhost:8080/",
          "height": 794
        },
        "id": "1aeK2IgXkq-v",
        "outputId": "1280c46e-ddea-4d0d-97b6-a197d111fb91"
      },
      "execution_count": 26,
      "outputs": [
        {
          "output_type": "stream",
          "name": "stdout",
          "text": [
            "0 3.4407331943511963\n",
            "1000 3.258129596710205\n",
            "2000 3.0881359577178955\n",
            "3000 4.553899765014648\n",
            "4000 4.214267253875732\n",
            "5000 2.925191640853882\n",
            "6000 3.313596487045288\n",
            "7000 5.27913761138916\n",
            "8000 3.508023977279663\n",
            "9000 2.681431531906128\n",
            "10000 3.1377573013305664\n",
            "11000 4.422557830810547\n",
            "12000 3.0609514713287354\n",
            "13000 2.843630075454712\n",
            "14000 3.3992812633514404\n",
            "15000 3.1298935413360596\n",
            "16000 6.549936294555664\n",
            "17000 3.5346834659576416\n",
            "18000 3.324143648147583\n",
            "19000 2.534226417541504\n"
          ]
        },
        {
          "output_type": "execute_result",
          "data": {
            "text/plain": [
              "[<matplotlib.lines.Line2D at 0x7da3dd2c6fe0>]"
            ]
          },
          "metadata": {},
          "execution_count": 26
        },
        {
          "output_type": "display_data",
          "data": {
            "text/plain": [
              "<Figure size 640x480 with 1 Axes>"
            ],
            "image/png": "[encoded data removed]"
          },
          "metadata": {}
        }
      ]
    },
    {
      "cell_type": "code",
      "source": [
        "# test dataset\n",
        "emb = C[X_dev]\n",
        "h = torch.tanh(emb.view(-1, C_dimensions * CONTEXT_LENGTH) @ W1 + B1)\n",
        "logits = h @ W2 + B2\n",
        "loss = F.cross_entropy(logits, Y_dev)\n",
        "loss.item()"
      ],
      "metadata": {
        "colab": {
          "base_uri": "https://localhost:8080/"
        },
        "id": "2bJZqG-iJVPN",
        "outputId": "a7ae075a-d175-4383-bd70-4ca08feddbb3"
      },
      "execution_count": 28,
      "outputs": [
        {
          "output_type": "execute_result",
          "data": {
            "text/plain": [
              "2.857992649078369"
            ]
          },
          "metadata": {},
          "execution_count": 28
        }
      ]
    },
    {
      "cell_type": "code",
      "source": [
        "# validate dataset\n",
        "emb = C[X_dev]\n",
        "h = torch.tanh(emb.view(-1, C_dimensions * CONTEXT_LENGTH) @ W1 + B1)\n",
        "logits = h @ W2 + B2\n",
        "loss = F.cross_entropy(logits, Y_dev)\n",
        "loss.item()"
      ],
      "metadata": {
        "colab": {
          "base_uri": "https://localhost:8080/"
        },
        "id": "03gP04d9Jp1U",
        "outputId": "49a93cfb-4ead-4952-9dee-e58b7ded3e87"
      },
      "execution_count": 27,
      "outputs": [
        {
          "output_type": "execute_result",
          "data": {
            "text/plain": [
              "2.857992649078369"
            ]
          },
          "metadata": {},
          "execution_count": 27
        }
      ]
    },
    {
      "cell_type": "code",
      "source": [
        "# test learning rate\n",
        "lre = torch.linspace(-3, 0, 1000)\n",
        "lrs = 10 ** lre\n",
        "\n",
        "lri = []\n",
        "lri2 = []\n",
        "lloss = []\n",
        "\n",
        "for k in range(1000):\n",
        "  ix = torch.randint(3, X_ar.shape[0], (100,))\n",
        "\n",
        "  # forward pass\n",
        "  emb = C[X_ar[ix]]\n",
        "  h = torch.tanh(emb.view(-1, 6) @ W1 + B1)\n",
        "  logits = h @ W2 + B2\n",
        "  loss = F.cross_entropy(logits, Y_ar[ix])\n",
        "\n",
        "  # backward pass\n",
        "  for param in p:\n",
        "    param.grad = None\n",
        "  loss.backward()\n",
        "\n",
        "  lr = lrs[k]\n",
        "  for param in p:\n",
        "    param.data -= lr * param.grad\n",
        "\n",
        "  lri += [lre[k].item()]\n",
        "  lri2 += [lrs[k].item()]\n",
        "  lloss += [loss.item()]\n",
        "\n",
        "plt.plot(lri, lloss)"
      ],
      "metadata": {
        "id": "HdljktyM3a1T"
      },
      "execution_count": null,
      "outputs": []
    },
    {
      "cell_type": "code",
      "source": [
        "plt.plot(lri2, lloss)"
      ],
      "metadata": {
        "id": "bFkAfwc-6b9S"
      },
      "execution_count": null,
      "outputs": []
    }
  ]
}