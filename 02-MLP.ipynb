{
  "cells": [
    {
      "cell_type": "code",
      "execution_count": null,
      "metadata": {
        "colab": {
          "base_uri": "https://localhost:8080/"
        },
        "id": "R9Tz_1Wxi_fS",
        "outputId": "dc6fb8d3-7f31-431f-cd94-2fe4aceff1b0"
      },
      "outputs": [
        {
          "name": "stdout",
          "output_type": "stream",
          "text": [
            "Drive already mounted at /content/drive; to attempt to forcibly remount, call drive.mount(\"/content/drive\", force_remount=True).\n"
          ]
        }
      ],
      "source": [
        "# open training file\n",
        "# link to file with names: https://github.com/karpathy/makemore/blob/master/names.txt\n",
        "from google.colab import drive\n",
        "import torch\n",
        "import numpy as np\n",
        "import torch.nn.functional as F\n",
        "\n",
        "import matplotlib.pyplot as plt\n",
        "import random\n",
        "\n",
        "drive.mount('/content/drive')\n",
        "\n",
        "file_path = 'drive/MyDrive/Colab Notebooks/models/names.txt'\n",
        "words = open(file_path, 'r').read().splitlines()"
      ]
    },
    {
      "cell_type": "code",
      "execution_count": null,
      "metadata": {
        "id": "FQRn9wdbjQaG"
      },
      "outputs": [],
      "source": [
        "# genereting tokens\n",
        "tokens = []\n",
        "\n",
        "for word in words:\n",
        "  for letter in word:\n",
        "    if letter not in tokens:\n",
        "      tokens.append(letter)\n",
        "\n",
        "tokens.sort()\n",
        "tokens = [\".\"] + tokens\n",
        "stoi = {}\n",
        "itos = {}\n",
        "for i in range(len(tokens)):\n",
        "  itos[i] = tokens[i]\n",
        "  stoi[tokens[i]] = i"
      ]
    },
    {
      "cell_type": "code",
      "execution_count": null,
      "metadata": {
        "id": "XicOPBjQjnyO"
      },
      "outputs": [],
      "source": [
        "# genereting training arrays\n",
        "X_ar = []\n",
        "Y_ar = []\n",
        "\n",
        "prepared_words = []\n",
        "\n",
        "for word in words:\n",
        "  prepared_words.append(word + \".\")\n",
        "\n",
        "CONTEXT_LENGTH = 5\n",
        "for word in prepared_words:\n",
        "  context = [stoi[\".\"]] * CONTEXT_LENGTH\n",
        "  for letter in word:\n",
        "    X_ar.append(context)\n",
        "    Y_ar.append(stoi[letter])\n",
        "\n",
        "    context = context[1:] + [stoi[letter]]"
      ]
    },
    {
      "cell_type": "code",
      "execution_count": null,
      "metadata": {
        "id": "DkmFGDdBkViE"
      },
      "outputs": [],
      "source": [
        "# creating parameters\n",
        "g = torch.Generator().manual_seed(2)\n",
        "\n",
        "C_dimensions = 30\n",
        "\n",
        "C = torch.randn(len(tokens), C_dimensions, generator=g)\n",
        "\n",
        "L1_size = 700\n",
        "W1 = torch.randn(CONTEXT_LENGTH * C_dimensions, L1_size, generator=g)\n",
        "B1 = torch.randn(L1_size, generator=g)\n",
        "\n",
        "W2 = torch.randn(L1_size, len(tokens), generator=g)\n",
        "B2 = torch.randn(len(tokens), generator=g)\n",
        "\n",
        "p = [C, W1, B1, W2, B2]\n",
        "\n",
        "for param in p:\n",
        "  param.requires_grad = True"
      ]
    },
    {
      "cell_type": "code",
      "execution_count": null,
      "metadata": {
        "id": "CWEIP8q7ANJV"
      },
      "outputs": [],
      "source": [
        "# dividing datasets\n",
        "def build_dataset(list):\n",
        "  X, Y = [], []\n",
        "\n",
        "  for item in list:\n",
        "    X.append(item[0])\n",
        "    Y.append(item[1])\n",
        "\n",
        "\n",
        "  return torch.tensor(X), torch.tensor(Y)\n",
        "\n",
        "train_dat = []\n",
        "for i in range(len(X_ar)):\n",
        "  train_dat.append([X_ar[i], Y_ar[i]])\n",
        "\n",
        "random.shuffle(train_dat)\n",
        "n1 = int(len(X_ar) * 0.8)\n",
        "n2 = int(len(X_ar) * 0.9)\n",
        "\n",
        "X_train, Y_train = build_dataset(train_dat[:n1])\n",
        "X_dev, Y_dev = build_dataset(train_dat[n1:n2])\n",
        "X_val, Y_val = build_dataset(train_dat[n2:])"
      ]
    },
    {
      "cell_type": "code",
      "execution_count": null,
      "metadata": {
        "colab": {
          "base_uri": "https://localhost:8080/",
          "height": 794
        },
        "id": "1aeK2IgXkq-v",
        "outputId": "1a195a62-a2b5-4826-e278-86a7ce81d385"
      },
      "outputs": [
        {
          "name": "stdout",
          "output_type": "stream",
          "text": [
            "0 0\n",
            "1000 9.601264953613281\n",
            "2000 7.0625128746032715\n",
            "3000 5.7781081199646\n",
            "4000 3.63405179977417\n",
            "5000 4.267054557800293\n",
            "6000 3.6449923515319824\n",
            "7000 5.0628886222839355\n",
            "8000 3.090782403945923\n",
            "9000 3.6827285289764404\n",
            "10000 3.0616579055786133\n",
            "11000 4.187258243560791\n",
            "12000 4.045641899108887\n",
            "13000 3.2346413135528564\n",
            "14000 3.633850336074829\n",
            "15000 3.722910165786743\n",
            "16000 3.8454554080963135\n",
            "17000 3.1756484508514404\n",
            "18000 4.516706943511963\n",
            "19000 8.091212272644043\n"
          ]
        },
        {
          "data": {
            "text/plain": [
              "[<matplotlib.lines.Line2D at 0x7a3622596aa0>]"
            ]
          },
          "execution_count": 15,
          "metadata": {},
          "output_type": "execute_result"
        },
        {
          "data": {
            "image/png": "[encoded data removed]",
            "text/plain": [
              "<Figure size 640x480 with 1 Axes>"
            ]
          },
          "metadata": {},
          "output_type": "display_data"
        }
      ],
      "source": [
        "loss_ar = []\n",
        "loss = torch.tensor(0)\n",
        "\n",
        "for k in range(20000):\n",
        "  if k % 1000 == 0:\n",
        "    print(k, loss.item())\n",
        "  ix = torch.randint(3, X_train.shape[0], (100,))\n",
        "\n",
        "  # forward pass\n",
        "  emb = C[X_train[ix]]\n",
        "  h = torch.tanh(emb.view(-1, C_dimensions * CONTEXT_LENGTH) @ W1 + B1)\n",
        "  logits = h @ W2 + B2\n",
        "  loss = F.cross_entropy(logits, Y_train[ix])\n",
        "\n",
        "  # backward pass\n",
        "  for param in p:\n",
        "    param.grad = None\n",
        "  loss.backward()\n",
        "  if k < 20000:\n",
        "    lr = 0.1\n",
        "  else:\n",
        "    lr = 0.01\n",
        "  for param in p:\n",
        "    param.data += -lr * param.grad\n",
        "\n",
        "  loss_ar += [loss.item()]\n",
        "plt.plot(loss_ar)"
      ]
    },
    {
      "cell_type": "code",
      "execution_count": null,
      "metadata": {
        "colab": {
          "base_uri": "https://localhost:8080/"
        },
        "id": "2bJZqG-iJVPN",
        "outputId": "7977a073-d2ed-432b-90f0-9bc5e9b8aa47"
      },
      "outputs": [
        {
          "data": {
            "text/plain": [
              "3.806973457336426"
            ]
          },
          "execution_count": 16,
          "metadata": {},
          "output_type": "execute_result"
        }
      ],
      "source": [
        "# test dataset\n",
        "emb = C[X_dev]\n",
        "h = torch.tanh(emb.view(-1, C_dimensions * CONTEXT_LENGTH) @ W1 + B1)\n",
        "logits = h @ W2 + B2\n",
        "loss = F.cross_entropy(logits, Y_dev)\n",
        "loss.item()"
      ]
    },
    {
      "cell_type": "code",
      "execution_count": null,
      "metadata": {
        "colab": {
          "base_uri": "https://localhost:8080/"
        },
        "id": "03gP04d9Jp1U",
        "outputId": "fdfc064f-dc35-4906-b8d0-b20f6027f448"
      },
      "outputs": [
        {
          "data": {
            "text/plain": [
              "3.806973457336426"
            ]
          },
          "execution_count": 17,
          "metadata": {},
          "output_type": "execute_result"
        }
      ],
      "source": [
        "# validate dataset\n",
        "emb = C[X_dev]\n",
        "h = torch.tanh(emb.view(-1, C_dimensions * CONTEXT_LENGTH) @ W1 + B1)\n",
        "logits = h @ W2 + B2\n",
        "loss = F.cross_entropy(logits, Y_dev)\n",
        "loss.item()"
      ]
    },
    {
      "cell_type": "code",
      "execution_count": null,
      "metadata": {
        "colab": {
          "base_uri": "https://localhost:8080/",
          "height": 211
        },
        "id": "HdljktyM3a1T",
        "outputId": "caa56e78-1bec-45f2-8ffb-fd0824cf16da"
      },
      "outputs": [
        {
          "ename": "AttributeError",
          "evalue": "'list' object has no attribute 'shape'",
          "output_type": "error",
          "traceback": [
            "\u001b[0;31m---------------------------------------------------------------------------\u001b[0m",
            "\u001b[0;31mAttributeError\u001b[0m                            Traceback (most recent call last)",
            "\u001b[0;32m<ipython-input-18-c77afb9d23d5>\u001b[0m in \u001b[0;36m<cell line: 9>\u001b[0;34m()\u001b[0m\n\u001b[1;32m      8\u001b[0m \u001b[0;34m\u001b[0m\u001b[0m\n\u001b[1;32m      9\u001b[0m \u001b[0;32mfor\u001b[0m \u001b[0mk\u001b[0m \u001b[0;32min\u001b[0m \u001b[0mrange\u001b[0m\u001b[0;34m(\u001b[0m\u001b[0;36m1000\u001b[0m\u001b[0;34m)\u001b[0m\u001b[0;34m:\u001b[0m\u001b[0;34m\u001b[0m\u001b[0;34m\u001b[0m\u001b[0m\n\u001b[0;32m---> 10\u001b[0;31m   \u001b[0mix\u001b[0m \u001b[0;34m=\u001b[0m \u001b[0mtorch\u001b[0m\u001b[0;34m.\u001b[0m\u001b[0mrandint\u001b[0m\u001b[0;34m(\u001b[0m\u001b[0;36m3\u001b[0m\u001b[0;34m,\u001b[0m \u001b[0mX_ar\u001b[0m\u001b[0;34m.\u001b[0m\u001b[0mshape\u001b[0m\u001b[0;34m[\u001b[0m\u001b[0;36m0\u001b[0m\u001b[0;34m]\u001b[0m\u001b[0;34m,\u001b[0m \u001b[0;34m(\u001b[0m\u001b[0;36m100\u001b[0m\u001b[0;34m,\u001b[0m\u001b[0;34m)\u001b[0m\u001b[0;34m)\u001b[0m\u001b[0;34m\u001b[0m\u001b[0;34m\u001b[0m\u001b[0m\n\u001b[0m\u001b[1;32m     11\u001b[0m \u001b[0;34m\u001b[0m\u001b[0m\n\u001b[1;32m     12\u001b[0m   \u001b[0;31m# forward pass\u001b[0m\u001b[0;34m\u001b[0m\u001b[0;34m\u001b[0m\u001b[0m\n",
            "\u001b[0;31mAttributeError\u001b[0m: 'list' object has no attribute 'shape'"
          ]
        }
      ],
      "source": [
        "# # test learning rate\n",
        "# lre = torch.linspace(-3, 0, 1000)\n",
        "# lrs = 10 ** lre\n",
        "\n",
        "# lri = []\n",
        "# lri2 = []\n",
        "# lloss = []\n",
        "\n",
        "# for k in range(1000):\n",
        "#   ix = torch.randint(3, X_ar.shape[0], (100,))\n",
        "\n",
        "#   # forward pass\n",
        "#   emb = C[X_ar[ix]]\n",
        "#   h = torch.tanh(emb.view(-1, 6) @ W1 + B1)\n",
        "#   logits = h @ W2 + B2\n",
        "#   loss = F.cross_entropy(logits, Y_ar[ix])\n",
        "\n",
        "#   # backward pass\n",
        "#   for param in p:\n",
        "#     param.grad = None\n",
        "#   loss.backward()\n",
        "\n",
        "#   lr = lrs[k]\n",
        "#   for param in p:\n",
        "#     param.data -= lr * param.grad\n",
        "\n",
        "#   lri += [lre[k].item()]\n",
        "#   lri2 += [lrs[k].item()]\n",
        "#   lloss += [loss.item()]\n",
        "\n",
        "# plt.plot(lri, lloss)"
      ]
    },
    {
      "cell_type": "code",
      "execution_count": null,
      "metadata": {
        "id": "bFkAfwc-6b9S"
      },
      "outputs": [],
      "source": [
        "plt.plot(lri2, lloss)"
      ]
    },
    {
      "cell_type": "markdown",
      "metadata": {
        "id": "0kUcdVE4OtoH"
      },
      "source": [
        "# Creating LLM"
      ]
    },
    {
      "cell_type": "code",
      "execution_count": null,
      "metadata": {
        "colab": {
          "base_uri": "https://localhost:8080/"
        },
        "id": "Akqjx7WZ3-og",
        "outputId": "abc8c434-3581-4ed2-b95d-564785abadb1"
      },
      "outputs": [
        {
          "output_type": "stream",
          "name": "stdout",
          "text": [
            "Collecting datasets\n",
            "  Downloading datasets-3.0.1-py3-none-any.whl.metadata (20 kB)\n",
            "Requirement already satisfied: filelock in /usr/local/lib/python3.10/dist-packages (from datasets) (3.16.1)\n",
            "Requirement already satisfied: numpy>=1.17 in /usr/local/lib/python3.10/dist-packages (from datasets) (1.26.4)\n",
            "Requirement already satisfied: pyarrow>=15.0.0 in /usr/local/lib/python3.10/dist-packages (from datasets) (16.1.0)\n",
            "Collecting dill<0.3.9,>=0.3.0 (from datasets)\n",
            "  Downloading dill-0.3.8-py3-none-any.whl.metadata (10 kB)\n",
            "Requirement already satisfied: pandas in /usr/local/lib/python3.10/dist-packages (from datasets) (2.2.2)\n",
            "Requirement already satisfied: requests>=2.32.2 in /usr/local/lib/python3.10/dist-packages (from datasets) (2.32.3)\n",
            "Requirement already satisfied: tqdm>=4.66.3 in /usr/local/lib/python3.10/dist-packages (from datasets) (4.66.5)\n",
            "Collecting xxhash (from datasets)\n",
            "  Downloading xxhash-3.5.0-cp310-cp310-manylinux_2_17_x86_64.manylinux2014_x86_64.whl.metadata (12 kB)\n",
            "Collecting multiprocess (from datasets)\n",
            "  Downloading multiprocess-0.70.17-py310-none-any.whl.metadata (7.2 kB)\n",
            "Requirement already satisfied: fsspec<=2024.6.1,>=2023.1.0 in /usr/local/lib/python3.10/dist-packages (from fsspec[http]<=2024.6.1,>=2023.1.0->datasets) (2024.6.1)\n",
            "Requirement already satisfied: aiohttp in /usr/local/lib/python3.10/dist-packages (from datasets) (3.10.8)\n",
            "Requirement already satisfied: huggingface-hub>=0.22.0 in /usr/local/lib/python3.10/dist-packages (from datasets) (0.24.7)\n",
            "Requirement already satisfied: packaging in /usr/local/lib/python3.10/dist-packages (from datasets) (24.1)\n",
            "Requirement already satisfied: pyyaml>=5.1 in /usr/local/lib/python3.10/dist-packages (from datasets) (6.0.2)\n",
            "Requirement already satisfied: aiohappyeyeballs>=2.3.0 in /usr/local/lib/python3.10/dist-packages (from aiohttp->datasets) (2.4.3)\n",
            "Requirement already satisfied: aiosignal>=1.1.2 in /usr/local/lib/python3.10/dist-packages (from aiohttp->datasets) (1.3.1)\n",
            "Requirement already satisfied: attrs>=17.3.0 in /usr/local/lib/python3.10/dist-packages (from aiohttp->datasets) (24.2.0)\n",
            "Requirement already satisfied: frozenlist>=1.1.1 in /usr/local/lib/python3.10/dist-packages (from aiohttp->datasets) (1.4.1)\n",
            "Requirement already satisfied: multidict<7.0,>=4.5 in /usr/local/lib/python3.10/dist-packages (from aiohttp->datasets) (6.1.0)\n",
            "Requirement already satisfied: yarl<2.0,>=1.12.0 in /usr/local/lib/python3.10/dist-packages (from aiohttp->datasets) (1.13.1)\n",
            "Requirement already satisfied: async-timeout<5.0,>=4.0 in /usr/local/lib/python3.10/dist-packages (from aiohttp->datasets) (4.0.3)\n",
            "Requirement already satisfied: typing-extensions>=3.7.4.3 in /usr/local/lib/python3.10/dist-packages (from huggingface-hub>=0.22.0->datasets) (4.12.2)\n",
            "Requirement already satisfied: charset-normalizer<4,>=2 in /usr/local/lib/python3.10/dist-packages (from requests>=2.32.2->datasets) (3.3.2)\n",
            "Requirement already satisfied: idna<4,>=2.5 in /usr/local/lib/python3.10/dist-packages (from requests>=2.32.2->datasets) (3.10)\n",
            "Requirement already satisfied: urllib3<3,>=1.21.1 in /usr/local/lib/python3.10/dist-packages (from requests>=2.32.2->datasets) (2.2.3)\n",
            "Requirement already satisfied: certifi>=2017.4.17 in /usr/local/lib/python3.10/dist-packages (from requests>=2.32.2->datasets) (2024.8.30)\n",
            "INFO: pip is looking at multiple versions of multiprocess to determine which version is compatible with other requirements. This could take a while.\n",
            "  Downloading multiprocess-0.70.16-py310-none-any.whl.metadata (7.2 kB)\n",
            "Requirement already satisfied: python-dateutil>=2.8.2 in /usr/local/lib/python3.10/dist-packages (from pandas->datasets) (2.8.2)\n",
            "Requirement already satisfied: pytz>=2020.1 in /usr/local/lib/python3.10/dist-packages (from pandas->datasets) (2024.2)\n",
            "Requirement already satisfied: tzdata>=2022.7 in /usr/local/lib/python3.10/dist-packages (from pandas->datasets) (2024.2)\n",
            "Requirement already satisfied: six>=1.5 in /usr/local/lib/python3.10/dist-packages (from python-dateutil>=2.8.2->pandas->datasets) (1.16.0)\n",
            "Downloading datasets-3.0.1-py3-none-any.whl (471 kB)\n",
            "\u001b[2K   \u001b[90m━━━━━━━━━━━━━━━━━━━━━━━━━━━━━━━━━━━━━━━━\u001b[0m \u001b[32m471.6/471.6 kB\u001b[0m \u001b[31m6.2 MB/s\u001b[0m eta \u001b[36m0:00:00\u001b[0m\n",
            "\u001b[?25hDownloading dill-0.3.8-py3-none-any.whl (116 kB)\n",
            "\u001b[2K   \u001b[90m━━━━━━━━━━━━━━━━━━━━━━━━━━━━━━━━━━━━━━━━\u001b[0m \u001b[32m116.3/116.3 kB\u001b[0m \u001b[31m2.6 MB/s\u001b[0m eta \u001b[36m0:00:00\u001b[0m\n",
            "\u001b[?25hDownloading multiprocess-0.70.16-py310-none-any.whl (134 kB)\n",
            "\u001b[2K   \u001b[90m━━━━━━━━━━━━━━━━━━━━━━━━━━━━━━━━━━━━━━━━\u001b[0m \u001b[32m134.8/134.8 kB\u001b[0m \u001b[31m5.8 MB/s\u001b[0m eta \u001b[36m0:00:00\u001b[0m\n",
            "\u001b[?25hDownloading xxhash-3.5.0-cp310-cp310-manylinux_2_17_x86_64.manylinux2014_x86_64.whl (194 kB)\n",
            "\u001b[2K   \u001b[90m━━━━━━━━━━━━━━━━━━━━━━━━━━━━━━━━━━━━━━━━\u001b[0m \u001b[32m194.1/194.1 kB\u001b[0m \u001b[31m3.1 MB/s\u001b[0m eta \u001b[36m0:00:00\u001b[0m\n",
            "\u001b[?25hInstalling collected packages: xxhash, dill, multiprocess, datasets\n",
            "Successfully installed datasets-3.0.1 dill-0.3.8 multiprocess-0.70.16 xxhash-3.5.0\n",
            "Requirement already satisfied: sentencepiece in /usr/local/lib/python3.10/dist-packages (0.2.0)\n",
            "Requirement already satisfied: matplotlib in /usr/local/lib/python3.10/dist-packages (3.7.1)\n",
            "Requirement already satisfied: contourpy>=1.0.1 in /usr/local/lib/python3.10/dist-packages (from matplotlib) (1.3.0)\n",
            "Requirement already satisfied: cycler>=0.10 in /usr/local/lib/python3.10/dist-packages (from matplotlib) (0.12.1)\n",
            "Requirement already satisfied: fonttools>=4.22.0 in /usr/local/lib/python3.10/dist-packages (from matplotlib) (4.54.1)\n",
            "Requirement already satisfied: kiwisolver>=1.0.1 in /usr/local/lib/python3.10/dist-packages (from matplotlib) (1.4.7)\n",
            "Requirement already satisfied: numpy>=1.20 in /usr/local/lib/python3.10/dist-packages (from matplotlib) (1.26.4)\n",
            "Requirement already satisfied: packaging>=20.0 in /usr/local/lib/python3.10/dist-packages (from matplotlib) (24.1)\n",
            "Requirement already satisfied: pillow>=6.2.0 in /usr/local/lib/python3.10/dist-packages (from matplotlib) (10.4.0)\n",
            "Requirement already satisfied: pyparsing>=2.3.1 in /usr/local/lib/python3.10/dist-packages (from matplotlib) (3.1.4)\n",
            "Requirement already satisfied: python-dateutil>=2.7 in /usr/local/lib/python3.10/dist-packages (from matplotlib) (2.8.2)\n",
            "Requirement already satisfied: six>=1.5 in /usr/local/lib/python3.10/dist-packages (from python-dateutil>=2.7->matplotlib) (1.16.0)\n",
            "Looking in indexes: https://download.pytorch.org/whl/cu124\n",
            "Requirement already satisfied: torch in /usr/local/lib/python3.10/dist-packages (2.4.1+cu121)\n",
            "Requirement already satisfied: torchvision in /usr/local/lib/python3.10/dist-packages (0.19.1+cu121)\n",
            "Requirement already satisfied: torchaudio in /usr/local/lib/python3.10/dist-packages (2.4.1+cu121)\n",
            "Requirement already satisfied: filelock in /usr/local/lib/python3.10/dist-packages (from torch) (3.16.1)\n",
            "Requirement already satisfied: typing-extensions>=4.8.0 in /usr/local/lib/python3.10/dist-packages (from torch) (4.12.2)\n",
            "Requirement already satisfied: sympy in /usr/local/lib/python3.10/dist-packages (from torch) (1.13.3)\n",
            "Requirement already satisfied: networkx in /usr/local/lib/python3.10/dist-packages (from torch) (3.3)\n",
            "Requirement already satisfied: jinja2 in /usr/local/lib/python3.10/dist-packages (from torch) (3.1.4)\n",
            "Requirement already satisfied: fsspec in /usr/local/lib/python3.10/dist-packages (from torch) (2024.6.1)\n",
            "Requirement already satisfied: numpy in /usr/local/lib/python3.10/dist-packages (from torchvision) (1.26.4)\n",
            "Requirement already satisfied: pillow!=8.3.*,>=5.3.0 in /usr/local/lib/python3.10/dist-packages (from torchvision) (10.4.0)\n",
            "Requirement already satisfied: MarkupSafe>=2.0 in /usr/local/lib/python3.10/dist-packages (from jinja2->torch) (2.1.5)\n",
            "Requirement already satisfied: mpmath<1.4,>=1.1.0 in /usr/local/lib/python3.10/dist-packages (from sympy->torch) (1.3.0)\n"
          ]
        }
      ],
      "source": [
        "!pip install datasets\n",
        "!pip install sentencepiece\n",
        "!pip install matplotlib\n",
        "!pip3 install torch torchvision torchaudio --index-url https://download.pytorch.org/whl/cu124\n",
        "import sentencepiece as spm\n",
        "from datasets import load_dataset\n",
        "import random\n",
        "import torch\n",
        "import torch.nn.functional as F\n",
        "import matplotlib.pyplot as plt"
      ]
    },
    {
      "cell_type": "code",
      "execution_count": null,
      "metadata": {
        "colab": {
          "base_uri": "https://localhost:8080/",
          "height": 194,
          "referenced_widgets": [
            "67bba596e3f449a8b71f6f9f9b1a8c67",
            "e9b6ea19a7ef4e56a8ff18d116e518bb",
            "7b022e47bfd94186b4b1007b47a86bf4",
            "74c2773c00584f1a9f13d873432291f6",
            "a6ff3174cf7345478f97cdb3712953ad",
            "b2c7e1f10a72480bb4b142eae8ccac7f",
            "0ca6747bd97c4f9c90b4798bb65fbf94",
            "7aab59696613493391a5b8a4555f0b86",
            "80a0b64e48e0490287de75bbf4d1d41e",
            "0554eda3ed0d4b07b14f4cb54aeec8f7",
            "be344b065785416f93382c0b4bac7833",
            "93387e64eebd4e0199477662ca9debeb",
            "697c2a450dbd47319b75c1d8eb938aa2",
            "0fa0e98877ab4fe59f6cee4062bc1fe2",
            "c37722ed56814428b814c05a38449cea",
            "f6b35d76ec1846aea89a0f4a31910e27",
            "e7533c231b4a44e598da7ab811dd643c",
            "eafd2b0eabc841148a6c192ccb6848b0",
            "7e21fae803cf4f85939bc10e8e143cd0",
            "2619860d137749f98fe1391d96b5a158",
            "c840abddd1a04694aa4eb74c373de16b",
            "e339a14ad72248748fe0d44bb14d89a4",
            "79a8324d814841998d5210f4b59c85fe",
            "3923bc04659b4f469343e278ac67688f",
            "a53433ca84a64b789ec35cf0801676c6",
            "80b747609ea34e3f8c91b2daa566eb9b",
            "7a6ecbc45f774ecb96c6ba9cd3e432ac",
            "bb08a4e9b07b4545ac1f71dddcd3c96f",
            "3e20d0332b4d48b68f5a6004400c92e9",
            "c8eb6016108b4536b8b0524ad4af677f",
            "af36c07a7d1b4e48b1fb5281336f80e7",
            "c5b6629318ad4efe954e2c3221921b55",
            "31d2eeacc9cf478e9b8f9271faab4e0d",
            "68a2ab0d57614d67b9c2ff486e96bc41",
            "ca99ff59850f44bd90c079fa5269bff1",
            "0028852d579a45f681f0b222e4c28b3c",
            "d075893c3c384640922c455a0a509be1",
            "1b34444d4a1942f89f9e4cbac7c6cef3",
            "ae645db83b8045768e2075d8be94f564",
            "6871a4a099fc4227b4c17a529dc8ce32",
            "de44d6943954466ab6790c0b25975dcc",
            "5536f9ef8b1f45f197903256893825c2",
            "8832db744ced4e159f3bf19ba0919833",
            "d4cb67da0dc64a8fb196d0a97203e1f0",
            "7337a7e3fa4d4fd0a98d848cdaef8c6e",
            "08b4c5a78bc0441aa9ab81d87ca1e9c7",
            "c504603e678c427787744953f9e9ff6d",
            "afed8676d7134eb2be39fa67b97bfa34",
            "e6c73484414747f3a5f97344910982c9",
            "d7b814f4514646da9f0c245b7c1192e8",
            "d142e2006a68447fbe0f8aa4c3d7178d",
            "6c3d3b364ed84ea08572c60bcd1226bf",
            "30e81dc736424e35ba1da6c4274e3c56",
            "26ee0efffd5d4b8597c5bded0a19f040",
            "4091054e0130494d9dfb7b659b574959"
          ]
        },
        "id": "Go4DSMjdi0v1",
        "outputId": "64dff7db-d2ca-4ddb-ee91-ab489473672d"
      },
      "outputs": [
        {
          "output_type": "stream",
          "name": "stdout",
          "text": [
            "Using device: cpu\n"
          ]
        },
        {
          "output_type": "display_data",
          "data": {
            "text/plain": [
              "README.md:   0%|          | 0.00/3.18k [00:00<?, ?B/s]"
            ],
            "application/vnd.jupyter.widget-view+json": {
              "version_major": 2,
              "version_minor": 0,
              "model_id": "67bba596e3f449a8b71f6f9f9b1a8c67"
            }
          },
          "metadata": {}
        },
        {
          "output_type": "display_data",
          "data": {
            "text/plain": [
              "train-00000-of-00003.parquet:   0%|          | 0.00/553M [00:00<?, ?B/s]"
            ],
            "application/vnd.jupyter.widget-view+json": {
              "version_major": 2,
              "version_minor": 0,
              "model_id": "93387e64eebd4e0199477662ca9debeb"
            }
          },
          "metadata": {}
        },
        {
          "output_type": "display_data",
          "data": {
            "text/plain": [
              "train-00001-of-00003.parquet:   0%|          | 0.00/305M [00:00<?, ?B/s]"
            ],
            "application/vnd.jupyter.widget-view+json": {
              "version_major": 2,
              "version_minor": 0,
              "model_id": "79a8324d814841998d5210f4b59c85fe"
            }
          },
          "metadata": {}
        },
        {
          "output_type": "display_data",
          "data": {
            "text/plain": [
              "train-00002-of-00003.parquet:   0%|          | 0.00/579M [00:00<?, ?B/s]"
            ],
            "application/vnd.jupyter.widget-view+json": {
              "version_major": 2,
              "version_minor": 0,
              "model_id": "68a2ab0d57614d67b9c2ff486e96bc41"
            }
          },
          "metadata": {}
        },
        {
          "output_type": "display_data",
          "data": {
            "text/plain": [
              "Generating train split:   0%|          | 0/1581885 [00:00<?, ? examples/s]"
            ],
            "application/vnd.jupyter.widget-view+json": {
              "version_major": 2,
              "version_minor": 0,
              "model_id": "7337a7e3fa4d4fd0a98d848cdaef8c6e"
            }
          },
          "metadata": {}
        }
      ],
      "source": [
        "device = torch.device(\"cuda\" if torch.cuda.is_available() else \"cpu\")\n",
        "print(f\"Using device: {device}\")\n",
        "\n",
        "ds = load_dataset(\"Locutusque/hercules-v5.0\")\n",
        "\n",
        "rows = ds['train'].select(range(5))\n",
        "\n",
        "ds_conversations = ds['train']['conversations']\n",
        "\n",
        "dataset_length = len(ds_conversations)"
      ]
    },
    {
      "cell_type": "code",
      "execution_count": null,
      "metadata": {
        "id": "AXtKr0kp5Vlp"
      },
      "outputs": [],
      "source": [
        "# prepare dataset\n",
        "for conversation in ds_conversations:\n",
        "  for entry in conversation:\n",
        "    if entry['from'] == \"system\":\n",
        "      conversation.remove(entry)"
      ]
    },
    {
      "cell_type": "code",
      "execution_count": null,
      "metadata": {
        "id": "zP4frBeXl7Pd"
      },
      "outputs": [],
      "source": [
        "chunk_size = 100000\n",
        "for i in range(0, dataset_length, chunk_size):\n",
        "  with open(f'dataset-{i}.txt', 'w', encoding='utf-8') as f:\n",
        "    for conversation in ds_conversations[i:i + chunk_size]:\n",
        "      for entry in conversation:\n",
        "        f.write(str(entry) + '\\n')\n"
      ]
    },
    {
      "cell_type": "code",
      "execution_count": null,
      "metadata": {
        "id": "yR_1xe5Ti0v2"
      },
      "outputs": [],
      "source": [
        "num_processes = 4\n",
        "chunk_size = 100000\n",
        "input_files = \"\"\n",
        "context_size = 1048"
      ]
    },
    {
      "cell_type": "code",
      "execution_count": null,
      "metadata": {
        "id": "fAe67fj2Io4m"
      },
      "outputs": [],
      "source": [
        "# create tokenizer\n",
        "for i in range(0, dataset_length, chunk_size):\n",
        "  input_files += f'dataset-{i}.txt,'\n",
        "\n",
        "special_tokens = ['<startofuser>', '<endofuser>', '<startofgpt>', '<endofgbt>', '<startofchat>', '<endofchat>']\n",
        "\n",
        "with open('dataset-0.txt', 'a+', encoding='utf-8') as f:\n",
        "  for i in range(10):\n",
        "    for elem in special_tokens:\n",
        "          f.write(elem + \"\\n\")\n",
        "\n",
        "spm.SentencePieceTrainer.train(\n",
        "    input=input_files,\n",
        "    model_prefix='tokenizer',\n",
        "    vocab_size=10240,\n",
        "    character_coverage=0.9995,\n",
        "    model_type='unigram',\n",
        "    input_sentence_size=10000,\n",
        "    shuffle_input_sentence=True,\n",
        "    num_threads=num_processes,\n",
        "    train_extremely_large_corpus=True,\n",
        "    max_sentence_length=context_size,\n",
        "    pad_id=3,\n",
        "    unk_id=0,\n",
        "    bos_id=1,\n",
        "    eos_id=2,\n",
        "    user_defined_symbols=special_tokens\n",
        ")"
      ]
    },
    {
      "cell_type": "code",
      "execution_count": null,
      "metadata": {
        "colab": {
          "base_uri": "https://localhost:8080/"
        },
        "id": "pK3N4xwr-tMU",
        "outputId": "8d3c70bc-1d82-40ee-a444-896bd262790d"
      },
      "outputs": [
        {
          "output_type": "execute_result",
          "data": {
            "text/plain": [
              "True"
            ]
          },
          "metadata": {},
          "execution_count": 5
        }
      ],
      "source": [
        "# Load the trained tokenizer\n",
        "sp = spm.SentencePieceProcessor()\n",
        "sp.load('tokenizer.model')"
      ]
    },
    {
      "cell_type": "code",
      "execution_count": null,
      "metadata": {
        "id": "4-9K9GR6J4Fq"
      },
      "outputs": [],
      "source": [
        "# parameters\n",
        "batch_size = 1024\n",
        "chunk_size = 100000"
      ]
    },
    {
      "cell_type": "code",
      "execution_count": null,
      "metadata": {
        "colab": {
          "base_uri": "https://localhost:8080/"
        },
        "id": "JbP-gImIMIgl",
        "outputId": "5f9b04a6-64da-4aed-c942-0333f3b8d2dc"
      },
      "outputs": [
        {
          "output_type": "stream",
          "name": "stdout",
          "text": [
            "['▁You', '▁are', '▁an', '▁un', 'bi', 'as', 'ed', ',', '▁un', 'ce', 'n', 's', 'or', 'ed', ',', '▁helpful', '▁assistant', '.', '<startofchat>', '<eot>']\n"
          ]
        }
      ],
      "source": [
        "text_data = \"You are an unbiased, uncensored, helpful assistant.<startofchat>\"\n",
        "tokenized = sp.encode_as_pieces(text_data)\n",
        "tokenized.append('<eot>')\n",
        "print(tokenized)"
      ]
    },
    {
      "cell_type": "code",
      "execution_count": null,
      "metadata": {
        "id": "KF78vp80RFda"
      },
      "outputs": [],
      "source": [
        "dataset_training_borders = [0, int(dataset_length * 0.8)]\n",
        "dataset_testing_borders = [int(dataset_length * 0.8), int(dataset_length * 0.9)]\n",
        "dataset_validation_borders = [int(dataset_length * 0.9), dataset_length]"
      ]
    },
    {
      "cell_type": "code",
      "execution_count": null,
      "metadata": {
        "colab": {
          "base_uri": "https://localhost:8080/"
        },
        "id": "Xy1XPVS7RwNE",
        "outputId": "2aca8d85-8083-4091-9473-6fd77e40d782"
      },
      "outputs": [
        {
          "output_type": "stream",
          "name": "stdout",
          "text": [
            "1581885\n"
          ]
        }
      ],
      "source": [
        "def format_conversations(conversations):\n",
        "  formatted_conversations = []\n",
        "  index = len(conversations) - 1  # Start from the last index\n",
        "\n",
        "  while index >= 0:\n",
        "    conversation = conversations[index]\n",
        "    conversation_string = \"\"\n",
        "    for item in conversation:\n",
        "      if item['from'] == 'human':\n",
        "        conversation_string += f\"<startofuser>{item['value']}<endofuser>\"\n",
        "      elif item['from'] == 'gpt':\n",
        "        conversation_string += f\"<startofgpt>{item['value']}<endofgpt>\"\n",
        "\n",
        "    formatted_conversations.append(\"<startofchat>\" + conversation_string + \"<endofchat>\")\n",
        "    conversations.pop(index)  # Delete the processed conversation\n",
        "    index -= 1\n",
        "\n",
        "  return formatted_conversations\n",
        "\n",
        "formatted_text = format_conversations(ds_conversations)\n",
        "print(len(formatted_text))"
      ]
    },
    {
      "cell_type": "code",
      "execution_count": null,
      "metadata": {
        "id": "nze1Fe_aSKaF"
      },
      "outputs": [],
      "source": [
        "import random\n",
        "def create_learning_chunk(list, start, end):\n",
        "  list_chunk =  list[start:end].copy()\n",
        "  random.shuffle(list_chunk)\n",
        "  return list_chunk"
      ]
    },
    {
      "cell_type": "code",
      "execution_count": null,
      "metadata": {
        "id": "a6teianLAc3S"
      },
      "outputs": [],
      "source": [
        "def get_random_valid_position(lst):\n",
        "    valid_positions = []\n",
        "\n",
        "    inside_invalid_range = False\n",
        "\n",
        "    for i in range(1, len(lst) - 2):\n",
        "        if lst[i] == 4:\n",
        "            inside_invalid_range = True\n",
        "        elif lst[i] == 5:\n",
        "            inside_invalid_range = False\n",
        "        elif not inside_invalid_range:\n",
        "            valid_positions.append(i)\n",
        "\n",
        "    if not valid_positions:\n",
        "        return None\n",
        "\n",
        "    return random.choice(valid_positions)\n",
        "\n",
        "def create_batch(list, context_size):\n",
        "  # 4 start, 5 end\n",
        "  ix, iy = [], []\n",
        "\n",
        "  for string in list:\n",
        "    tokens = sp.encode_as_ids(string)\n",
        "    position = get_random_valid_position(tokens)\n",
        "\n",
        "    if(position >= len(tokens) - 1):\n",
        "      position -= 1\n",
        "\n",
        "    if(position >= context_size):\n",
        "      ix.append(tokens[position - context_size:position])\n",
        "    else:\n",
        "      context_part = tokens[0:position]\n",
        "      padding = [0] * (context_size - len(context_part))\n",
        "      ix.append(padding + context_part)\n",
        "\n",
        "    iy.append(tokens[position + 1])\n",
        "\n",
        "  return torch.tensor(ix, device=device), torch.tensor(iy, device=device)\n"
      ]
    },
    {
      "cell_type": "code",
      "execution_count": null,
      "metadata": {
        "colab": {
          "base_uri": "https://localhost:8080/"
        },
        "id": "XRdG9NGDcZbR",
        "outputId": "259ab3b0-cdd0-4320-fe3f-bbb246199bf5"
      },
      "outputs": [
        {
          "output_type": "stream",
          "name": "stdout",
          "text": [
            "Embedding size: 20480\n",
            "Total parameters: 6347264\n"
          ]
        }
      ],
      "source": [
        "VOCAB_SIZE = sp.get_piece_size()\n",
        "CONTEXT_LENGTH = context_size\n",
        "EMBEDDING_DIM = 2\n",
        "HIDDEN_DIM = 512\n",
        "\n",
        "C = torch.randn((VOCAB_SIZE, EMBEDDING_DIM), device=device)\n",
        "W1 = torch.randn((EMBEDDING_DIM * CONTEXT_LENGTH, HIDDEN_DIM), device=device) * (2.0 / (EMBEDDING_DIM * CONTEXT_LENGTH * HIDDEN_DIM)) ** 0.5\n",
        "B1 = torch.zeros(HIDDEN_DIM, device=device)\n",
        "W2 = torch.randn((HIDDEN_DIM, VOCAB_SIZE), device=device) / HIDDEN_DIM ** 0.5\n",
        "B2 = torch.zeros(VOCAB_SIZE, device=device)\n",
        "\n",
        "parameters = [C, W1, B1, W2, B2]\n",
        "\n",
        "for param in parameters:\n",
        "  param.requires_grad = True\n",
        "\n",
        "optimizer = torch.optim.Adam(parameters, lr=0.1)\n",
        "\n",
        "total_params = sum(param.numel() for param in parameters)\n",
        "print(f\"Embedding size: {C.numel()}\")\n",
        "print(f\"Total parameters: {total_params}\")"
      ]
    },
    {
      "cell_type": "code",
      "execution_count": null,
      "metadata": {
        "colab": {
          "base_uri": "https://localhost:8080/",
          "height": 391
        },
        "id": "m3clp8bFsNNe",
        "outputId": "3c4c21dc-b819-474a-f02d-ab205cb4f0fc"
      },
      "outputs": [
        {
          "name": "stdout",
          "output_type": "stream",
          "text": [
            "0\n",
            "100\n"
          ]
        },
        {
          "ename": "KeyboardInterrupt",
          "evalue": "",
          "output_type": "error",
          "traceback": [
            "\u001b[1;31m---------------------------------------------------------------------------\u001b[0m",
            "\u001b[1;31mKeyboardInterrupt\u001b[0m                         Traceback (most recent call last)",
            "Cell \u001b[1;32mIn[17], line 37\u001b[0m\n\u001b[0;32m     35\u001b[0m lri \u001b[38;5;241m+\u001b[39m\u001b[38;5;241m=\u001b[39m [lre[k]\u001b[38;5;241m.\u001b[39mitem()]\n\u001b[0;32m     36\u001b[0m lri2 \u001b[38;5;241m+\u001b[39m\u001b[38;5;241m=\u001b[39m [lrs[k]\u001b[38;5;241m.\u001b[39mitem()]\n\u001b[1;32m---> 37\u001b[0m lloss \u001b[38;5;241m+\u001b[39m\u001b[38;5;241m=\u001b[39m [\u001b[43mloss\u001b[49m\u001b[38;5;241;43m.\u001b[39;49m\u001b[43mitem\u001b[49m\u001b[43m(\u001b[49m\u001b[43m)\u001b[49m]\n",
            "\u001b[1;31mKeyboardInterrupt\u001b[0m: "
          ]
        }
      ],
      "source": [
        "# # test learning rate\n",
        "lre = torch.linspace(-5, 0, 1000)\n",
        "lrs = 10 ** lre\n",
        "\n",
        "lri = []\n",
        "lri2 = []\n",
        "lloss = []\n",
        "\n",
        "learning_chunk = create_learning_chunk(formatted_text, 0, 1000 * batch_size)\n",
        "for k in range(1000):\n",
        "    X_train, Y_train = create_batch(learning_chunk[k:k+batch_size], context_size)\n",
        "\n",
        "    # forward pass\n",
        "    emb = C[X_train]\n",
        "    emb = emb.view(-1, EMBEDDING_DIM * CONTEXT_LENGTH) @ W1 + B1\n",
        "    h = torch.tanh(emb)\n",
        "    logits = h @ W2 + B2\n",
        "\n",
        "    # compute loss\n",
        "    loss = F.cross_entropy(logits, Y_train)\n",
        "\n",
        "    # backward pass\n",
        "    optimizer.zero_grad()\n",
        "    loss.backward()\n",
        "\n",
        "    lr = lrs[k]\n",
        "    for param_group in optimizer.param_groups:\n",
        "        param_group['lr'] = lr\n",
        "\n",
        "    optimizer.step()\n",
        "\n",
        "    if k % 100 == 0:\n",
        "        print(k)\n",
        "\n",
        "    lri += [lre[k].item()]\n",
        "    lri2 += [lrs[k].item()]\n",
        "    lloss += [loss.item()]\n"
      ]
    },
    {
      "cell_type": "code",
      "execution_count": null,
      "metadata": {
        "id": "hWjX3bbdi0v3",
        "outputId": "59510dce-7cfa-4043-f6d3-e88f0e7c0667"
      },
      "outputs": [
        {
          "data": {
            "text/plain": [
              "[<matplotlib.lines.Line2D at 0x198369e72e0>]"
            ]
          },
          "execution_count": 27,
          "metadata": {},
          "output_type": "execute_result"
        },
        {
          "data": {
            "image/png": "[encoded data removed]",
            "text/plain": [
              "<Figure size 640x480 with 1 Axes>"
            ]
          },
          "metadata": {},
          "output_type": "display_data"
        }
      ],
      "source": [
        "plt.plot(lri2[:500], lloss[:500])"
      ]
    },
    {
      "cell_type": "code",
      "execution_count": null,
      "metadata": {
        "id": "ck9cm5cUyOgc"
      },
      "outputs": [],
      "source": [
        "def save_weights_and_biases(parameters, filepath):\n",
        "    state_dict = {f'param_{i}': param.detach().cpu() for i, param in enumerate(parameters)}\n",
        "\n",
        "    # Save the state dictionary to a file\n",
        "    torch.save(state_dict, filepath)\n",
        "    print(f\"Weights and biases saved to {filepath}\")\n",
        "\n",
        "def load_weights_and_biases(filepath):\n",
        "    state_dict = torch.load(filepath)\n",
        "    parameters = [state_dict[f'param_{i}'] for i in range(len(state_dict))]\n",
        "\n",
        "    return parameters"
      ]
    },
    {
      "cell_type": "code",
      "execution_count": null,
      "metadata": {
        "colab": {
          "base_uri": "https://localhost:8080/"
        },
        "id": "UWIKg8Mqxmp7",
        "outputId": "bdd166f5-585f-4873-f870-499160dc816a"
      },
      "outputs": [
        {
          "output_type": "stream",
          "name": "stderr",
          "text": [
            "<ipython-input-13-9307e0f7949e>:9: FutureWarning: You are using `torch.load` with `weights_only=False` (the current default value), which uses the default pickle module implicitly. It is possible to construct malicious pickle data which will execute arbitrary code during unpickling (See https://github.com/pytorch/pytorch/blob/main/SECURITY.md#untrusted-models for more details). In a future release, the default value for `weights_only` will be flipped to `True`. This limits the functions that could be executed during unpickling. Arbitrary objects will no longer be allowed to be loaded via this mode unless they are explicitly allowlisted by the user via `torch.serialization.add_safe_globals`. We recommend you start setting `weights_only=True` for any use case where you don't have full control of the loaded file. Please open an issue on GitHub for any issues related to this experimental feature.\n",
            "  state_dict = torch.load(filepath)\n"
          ]
        }
      ],
      "source": [
        "# save_weights_and_biases(parameters, 'model_weights.pth')\n",
        "parameters = load_weights_and_biases('model_weights.pth')\n",
        "C = parameters[0]\n",
        "W1 =  parameters[1]\n",
        "B1 = parameters[2]\n",
        "W2 = parameters[3]\n",
        "B2 = parameters[4]"
      ]
    },
    {
      "cell_type": "code",
      "execution_count": null,
      "metadata": {
        "id": "Hos1PrDUi0v4"
      },
      "outputs": [],
      "source": [
        "loss_ar = []\n",
        "loss = torch.tensor(0)"
      ]
    },
    {
      "cell_type": "code",
      "execution_count": null,
      "metadata": {
        "colab": {
          "base_uri": "https://localhost:8080/",
          "height": 373
        },
        "id": "ApDOKfiuNZlZ",
        "outputId": "84cb9d28-eb0b-41ab-b497-5c8f73147442"
      },
      "outputs": [
        {
          "name": "stdout",
          "output_type": "stream",
          "text": [
            "0 6.662665843963623\n"
          ]
        },
        {
          "ename": "KeyboardInterrupt",
          "evalue": "",
          "output_type": "error",
          "traceback": [
            "\u001b[1;31m---------------------------------------------------------------------------\u001b[0m",
            "\u001b[1;31mKeyboardInterrupt\u001b[0m                         Traceback (most recent call last)",
            "Cell \u001b[1;32mIn[33], line 6\u001b[0m\n\u001b[0;32m      4\u001b[0m learning_chunk \u001b[38;5;241m=\u001b[39m create_learning_chunk(formatted_text_shaffle, k, \u001b[38;5;28mmin\u001b[39m(k\u001b[38;5;241m+\u001b[39mchunk_size, dataset_training_borders[\u001b[38;5;241m1\u001b[39m]))\n\u001b[0;32m      5\u001b[0m \u001b[38;5;28;01mfor\u001b[39;00m i \u001b[38;5;129;01min\u001b[39;00m \u001b[38;5;28mrange\u001b[39m(\u001b[38;5;241m0\u001b[39m, \u001b[38;5;28mlen\u001b[39m(learning_chunk) \u001b[38;5;241m-\u001b[39m batch_size, batch_size):\n\u001b[1;32m----> 6\u001b[0m   X_train, Y_train \u001b[38;5;241m=\u001b[39m \u001b[43mcreate_batch\u001b[49m\u001b[43m(\u001b[49m\u001b[43mlearning_chunk\u001b[49m\u001b[43m[\u001b[49m\u001b[43mi\u001b[49m\u001b[43m:\u001b[49m\u001b[43mi\u001b[49m\u001b[38;5;241;43m+\u001b[39;49m\u001b[43mbatch_size\u001b[49m\u001b[43m]\u001b[49m\u001b[43m,\u001b[49m\u001b[43m \u001b[49m\u001b[43mcontext_size\u001b[49m\u001b[43m)\u001b[49m\n\u001b[0;32m      8\u001b[0m   \u001b[38;5;66;03m# forward pass\u001b[39;00m\n\u001b[0;32m      9\u001b[0m   emb \u001b[38;5;241m=\u001b[39m C[X_train]\n",
            "Cell \u001b[1;32mIn[11], line 39\u001b[0m, in \u001b[0;36mcreate_batch\u001b[1;34m(list, context_size)\u001b[0m\n\u001b[0;32m     35\u001b[0m     ix\u001b[38;5;241m.\u001b[39mappend(padding \u001b[38;5;241m+\u001b[39m context_part)\n\u001b[0;32m     37\u001b[0m   iy\u001b[38;5;241m.\u001b[39mappend(tokens[position \u001b[38;5;241m+\u001b[39m \u001b[38;5;241m1\u001b[39m])\n\u001b[1;32m---> 39\u001b[0m \u001b[38;5;28;01mreturn\u001b[39;00m \u001b[43mtorch\u001b[49m\u001b[38;5;241;43m.\u001b[39;49m\u001b[43mtensor\u001b[49m\u001b[43m(\u001b[49m\u001b[43mix\u001b[49m\u001b[43m,\u001b[49m\u001b[43m \u001b[49m\u001b[43mdevice\u001b[49m\u001b[38;5;241;43m=\u001b[39;49m\u001b[43mdevice\u001b[49m\u001b[43m)\u001b[49m, torch\u001b[38;5;241m.\u001b[39mtensor(iy, device\u001b[38;5;241m=\u001b[39mdevice)\n",
            "\u001b[1;31mKeyboardInterrupt\u001b[0m: "
          ]
        }
      ],
      "source": [
        "formatted_text_shaffle = formatted_text.copy()\n",
        "random.shuffle(formatted_text_shaffle)\n",
        "for k in range(dataset_training_borders[0], dataset_training_borders[1], chunk_size):\n",
        "  learning_chunk = create_learning_chunk(formatted_text_shaffle, k, min(k+chunk_size, dataset_training_borders[1]))\n",
        "  for i in range(0, len(learning_chunk) - batch_size, batch_size):\n",
        "    X_train, Y_train = create_batch(learning_chunk[i:i+batch_size], context_size)\n",
        "\n",
        "    # forward pass\n",
        "    emb = C[X_train]\n",
        "    emb = emb.view(-1, EMBEDDING_DIM * CONTEXT_LENGTH) @ W1 + B1\n",
        "    h = torch.tanh(emb)\n",
        "    logits = h @ W2 + B2\n",
        "\n",
        "    # compute loss\n",
        "    loss = F.cross_entropy(logits, Y_train)\n",
        "\n",
        "    # backward pass\n",
        "    optimizer.zero_grad()\n",
        "    loss.backward()\n",
        "\n",
        "    if k <= 8:\n",
        "      lr = 0.0002\n",
        "    else:\n",
        "      lr = 0.00005\n",
        "    for param_group in optimizer.param_groups:\n",
        "      param_group['lr'] = lr\n",
        "\n",
        "    optimizer.step()\n",
        "\n",
        "    loss_ar += [loss.item()]\n",
        "    if i % (chunk_size / 1000)  == 0:\n",
        "      loss_ar += [loss.item()]\n",
        "    if i % (chunk_size / 100)  == 0:\n",
        "      print(k, loss.item())"
      ]
    },
    {
      "cell_type": "code",
      "execution_count": null,
      "metadata": {
        "id": "kR167alTi0v4"
      },
      "outputs": [],
      "source": [
        "def transfor_text_to_tokens(list):\n",
        "    tokenized = []\n",
        "    for i in range(0, len(list)):\n",
        "        tokenized.append(sp.encode_as_ids(list[i]))\n",
        "        if i % 10000 == 0:\n",
        "          print(i)\n",
        "\n",
        "    return tokenized\n",
        "\n",
        "def create_batches_tokenised(tokenized_list, context_size):\n",
        "    global device\n",
        "    ix, iy = [], []\n",
        "\n",
        "    for tokens in tokenized_list:\n",
        "        # If the number of tokens is less than 2, we cannot create a prediction\n",
        "        if len(tokens) < 2:\n",
        "            continue\n",
        "\n",
        "        position = random.randint(0, len(tokens) - 2)  # Random position for prediction\n",
        "\n",
        "        # Get context tokens\n",
        "        context_start = max(0, position - context_size)\n",
        "        context_end = position\n",
        "\n",
        "        # Extract the context\n",
        "        context_part = tokens[context_start:context_end]\n",
        "\n",
        "        # Trim context if too long, or pad if too short\n",
        "        if len(context_part) > context_size:\n",
        "            context_part = context_part[-context_size:]  # Keep the last `context_size` tokens\n",
        "        elif len(context_part) < context_size:\n",
        "            padding = [0] * (context_size - len(context_part))  # Assuming 0 is the padding token\n",
        "            context_part = padding + context_part\n",
        "\n",
        "        # Prediction token (ensures we don't go out of bounds)\n",
        "        prediction_token = tokens[position + 1] if position + 1 < len(tokens) else 0  # Default to 0 if out of bounds\n",
        "\n",
        "        ix.append(context_part)\n",
        "        iy.append(prediction_token)\n",
        "\n",
        "    return torch.tensor(ix, dtype=torch.long, device=device), torch.tensor(iy, dtype=torch.long, device=device)\n"
      ]
    },
    {
      "cell_type": "code",
      "execution_count": null,
      "metadata": {
        "colab": {
          "base_uri": "https://localhost:8080/"
        },
        "id": "AHt9Api3i0v4",
        "outputId": "2dc7a545-72a7-4eeb-9186-f52297517094"
      },
      "outputs": [
        {
          "output_type": "stream",
          "name": "stdout",
          "text": [
            "0\n",
            "10000\n",
            "20000\n",
            "30000\n",
            "40000\n",
            "50000\n",
            "60000\n",
            "70000\n",
            "80000\n",
            "90000\n"
          ]
        }
      ],
      "source": [
        "# formatted_text_shaffle = formatted_text.copy()\n",
        "# random.shuffle(formatted_text_shaffle)\n",
        "random.shuffle(formatted_text)\n",
        "formatted_text_tokens = transfor_text_to_tokens(formatted_text[0:100000])"
      ]
    },
    {
      "cell_type": "code",
      "source": [
        "for param in parameters:\n",
        "  param.requires_grad = True"
      ],
      "metadata": {
        "id": "kghKTzA4mRbB"
      },
      "execution_count": null,
      "outputs": []
    },
    {
      "cell_type": "code",
      "execution_count": null,
      "metadata": {
        "colab": {
          "base_uri": "https://localhost:8080/",
          "height": 540
        },
        "id": "OBucMBP6i0v4",
        "outputId": "2c329166-e44e-4b42-d314-b098034d3153"
      },
      "outputs": [
        {
          "output_type": "stream",
          "name": "stdout",
          "text": [
            "0 6.679311275482178\n",
            "Weights and biases saved to model_weights.pth\n",
            "1000 6.895905494689941\n",
            "Weights and biases saved to model_weights.pth\n",
            "2000 6.656282424926758\n",
            "Weights and biases saved to model_weights.pth\n",
            "3000 6.550243854522705\n",
            "Weights and biases saved to model_weights.pth\n",
            "4000 6.541139602661133\n",
            "Weights and biases saved to model_weights.pth\n",
            "5000 6.750153541564941\n",
            "Weights and biases saved to model_weights.pth\n",
            "6000 6.824188232421875\n",
            "Weights and biases saved to model_weights.pth\n"
          ]
        },
        {
          "output_type": "error",
          "ename": "KeyboardInterrupt",
          "evalue": "",
          "traceback": [
            "\u001b[0;31m---------------------------------------------------------------------------\u001b[0m",
            "\u001b[0;31mKeyboardInterrupt\u001b[0m                         Traceback (most recent call last)",
            "\u001b[0;32m<ipython-input-29-4685f61ca21b>\u001b[0m in \u001b[0;36m<cell line: 3>\u001b[0;34m()\u001b[0m\n\u001b[1;32m      2\u001b[0m \u001b[0;34m\u001b[0m\u001b[0m\n\u001b[1;32m      3\u001b[0m \u001b[0;32mfor\u001b[0m \u001b[0mk\u001b[0m \u001b[0;32min\u001b[0m \u001b[0mrange\u001b[0m\u001b[0;34m(\u001b[0m\u001b[0mdataset_training_borders\u001b[0m\u001b[0;34m[\u001b[0m\u001b[0;36m0\u001b[0m\u001b[0;34m]\u001b[0m\u001b[0;34m,\u001b[0m \u001b[0mdataset_training_borders\u001b[0m\u001b[0;34m[\u001b[0m\u001b[0;36m1\u001b[0m\u001b[0;34m]\u001b[0m \u001b[0;34m-\u001b[0m \u001b[0mbatch_size\u001b[0m\u001b[0;34m)\u001b[0m\u001b[0;34m:\u001b[0m\u001b[0;34m\u001b[0m\u001b[0;34m\u001b[0m\u001b[0m\n\u001b[0;32m----> 4\u001b[0;31m     \u001b[0mX_train\u001b[0m\u001b[0;34m,\u001b[0m \u001b[0mY_train\u001b[0m \u001b[0;34m=\u001b[0m \u001b[0mcreate_batches_tokenised\u001b[0m\u001b[0;34m(\u001b[0m\u001b[0mformatted_text_tokens\u001b[0m\u001b[0;34m[\u001b[0m\u001b[0mk\u001b[0m\u001b[0;34m:\u001b[0m\u001b[0mk\u001b[0m\u001b[0;34m+\u001b[0m\u001b[0mbatch_size\u001b[0m\u001b[0;34m]\u001b[0m\u001b[0;34m,\u001b[0m \u001b[0mcontext_size\u001b[0m\u001b[0;34m)\u001b[0m\u001b[0;34m\u001b[0m\u001b[0;34m\u001b[0m\u001b[0m\n\u001b[0m\u001b[1;32m      5\u001b[0m \u001b[0;34m\u001b[0m\u001b[0m\n\u001b[1;32m      6\u001b[0m     \u001b[0;31m# forward pass\u001b[0m\u001b[0;34m\u001b[0m\u001b[0;34m\u001b[0m\u001b[0m\n",
            "\u001b[0;32m<ipython-input-20-ef657f55fae5>\u001b[0m in \u001b[0;36mcreate_batches_tokenised\u001b[0;34m(tokenized_list, context_size)\u001b[0m\n\u001b[1;32m     39\u001b[0m         \u001b[0miy\u001b[0m\u001b[0;34m.\u001b[0m\u001b[0mappend\u001b[0m\u001b[0;34m(\u001b[0m\u001b[0mprediction_token\u001b[0m\u001b[0;34m)\u001b[0m\u001b[0;34m\u001b[0m\u001b[0;34m\u001b[0m\u001b[0m\n\u001b[1;32m     40\u001b[0m \u001b[0;34m\u001b[0m\u001b[0m\n\u001b[0;32m---> 41\u001b[0;31m     \u001b[0;32mreturn\u001b[0m \u001b[0mtorch\u001b[0m\u001b[0;34m.\u001b[0m\u001b[0mtensor\u001b[0m\u001b[0;34m(\u001b[0m\u001b[0mix\u001b[0m\u001b[0;34m,\u001b[0m \u001b[0mdtype\u001b[0m\u001b[0;34m=\u001b[0m\u001b[0mtorch\u001b[0m\u001b[0;34m.\u001b[0m\u001b[0mlong\u001b[0m\u001b[0;34m,\u001b[0m \u001b[0mdevice\u001b[0m\u001b[0;34m=\u001b[0m\u001b[0mdevice\u001b[0m\u001b[0;34m)\u001b[0m\u001b[0;34m,\u001b[0m \u001b[0mtorch\u001b[0m\u001b[0;34m.\u001b[0m\u001b[0mtensor\u001b[0m\u001b[0;34m(\u001b[0m\u001b[0miy\u001b[0m\u001b[0;34m,\u001b[0m \u001b[0mdtype\u001b[0m\u001b[0;34m=\u001b[0m\u001b[0mtorch\u001b[0m\u001b[0;34m.\u001b[0m\u001b[0mlong\u001b[0m\u001b[0;34m,\u001b[0m \u001b[0mdevice\u001b[0m\u001b[0;34m=\u001b[0m\u001b[0mdevice\u001b[0m\u001b[0;34m)\u001b[0m\u001b[0;34m\u001b[0m\u001b[0;34m\u001b[0m\u001b[0m\n\u001b[0m",
            "\u001b[0;31mKeyboardInterrupt\u001b[0m: "
          ]
        }
      ],
      "source": [
        "#for j in range(10):\n",
        "\n",
        "for k in range(dataset_training_borders[0], dataset_training_borders[1] - batch_size):\n",
        "    X_train, Y_train = create_batches_tokenised(formatted_text_tokens[k:k+batch_size], context_size)\n",
        "\n",
        "    # forward pass\n",
        "    emb = C[X_train]\n",
        "    emb = emb.view(-1, EMBEDDING_DIM * CONTEXT_LENGTH) @ W1 + B1\n",
        "    h = torch.tanh(emb)\n",
        "    logits = h @ W2 + B2\n",
        "\n",
        "    # compute loss\n",
        "    loss = F.cross_entropy(logits, Y_train)\n",
        "\n",
        "    # backward pass\n",
        "    optimizer.zero_grad()\n",
        "    loss.backward()\n",
        "\n",
        "    if k <= 8:\n",
        "        lr = 0.00005\n",
        "    else:\n",
        "        lr = 0.00005\n",
        "    for param_group in optimizer.param_groups:\n",
        "        param_group['lr'] = lr\n",
        "\n",
        "    optimizer.step()\n",
        "\n",
        "    loss_ar += [loss.item()]\n",
        "    if k % 10  == 0:\n",
        "        loss_ar += [loss.item()]\n",
        "    if k % 1000  == 0:\n",
        "        print(k, loss.item())\n",
        "        save_weights_and_biases(parameters, 'model_weights.pth')"
      ]
    },
    {
      "cell_type": "code",
      "execution_count": null,
      "metadata": {
        "colab": {
          "base_uri": "https://localhost:8080/",
          "height": 465
        },
        "id": "CkLqG-9MQVgh",
        "outputId": "5d371e21-8e8b-43f0-a307-9dddc0e95bb3"
      },
      "outputs": [
        {
          "output_type": "stream",
          "name": "stdout",
          "text": [
            "12729\n"
          ]
        },
        {
          "output_type": "execute_result",
          "data": {
            "text/plain": [
              "[<matplotlib.lines.Line2D at 0x7cc334670d00>]"
            ]
          },
          "metadata": {},
          "execution_count": 30
        },
        {
          "output_type": "display_data",
          "data": {
            "text/plain": [
              "<Figure size 640x480 with 1 Axes>"
            ],
            "image/png": "[encoded data removed]"
          },
          "metadata": {}
        }
      ],
      "source": [
        "print(len(loss_ar))\n",
        "plt.plot(loss_ar)"
      ]
    },
    {
      "cell_type": "code",
      "execution_count": null,
      "metadata": {
        "id": "2RkOSvzOuuDQ",
        "outputId": "ce5a908c-318d-48ac-affa-348f8a55303c"
      },
      "outputs": [
        {
          "ename": "NameError",
          "evalue": "name 'X_val' is not defined",
          "output_type": "error",
          "traceback": [
            "\u001b[1;31m---------------------------------------------------------------------------\u001b[0m",
            "\u001b[1;31mNameError\u001b[0m                                 Traceback (most recent call last)",
            "Cell \u001b[1;32mIn[57], line 22\u001b[0m\n\u001b[0;32m     19\u001b[0m \u001b[38;5;66;03m# compute loss\u001b[39;00m\n\u001b[0;32m     20\u001b[0m loss \u001b[38;5;241m=\u001b[39m F\u001b[38;5;241m.\u001b[39mcross_entropy(logits, Y_train)\n\u001b[1;32m---> 22\u001b[0m total_loss \u001b[38;5;241m+\u001b[39m\u001b[38;5;241m=\u001b[39m loss\u001b[38;5;241m.\u001b[39mitem() \u001b[38;5;241m*\u001b[39m \u001b[43mX_val\u001b[49m\u001b[38;5;241m.\u001b[39msize(\u001b[38;5;241m0\u001b[39m)\n\u001b[0;32m     23\u001b[0m loss_ar\u001b[38;5;241m.\u001b[39mappend(loss\u001b[38;5;241m.\u001b[39mitem())\n\u001b[0;32m     25\u001b[0m \u001b[38;5;28;01mif\u001b[39;00m i \u001b[38;5;241m%\u001b[39m (batch_size \u001b[38;5;241m*\u001b[39m \u001b[38;5;241m100\u001b[39m) \u001b[38;5;241m==\u001b[39m \u001b[38;5;241m0\u001b[39m:\n",
            "\u001b[1;31mNameError\u001b[0m: name 'X_val' is not defined"
          ]
        }
      ],
      "source": [
        "# testing\n",
        "\n",
        "loss_ar = []\n",
        "total_loss = 0\n",
        "total_samples = 0\n",
        "\n",
        "with torch.no_grad():\n",
        "  for k in range(dataset_testing_borders[0], dataset_testing_borders[1], chunk_size):\n",
        "    learning_chunk = create_learning_chunk(formatted_text, k, min(k+chunk_size, dataset_testing_borders[1]))\n",
        "    for i in range(0, len(learning_chunk) - batch_size, batch_size):\n",
        "      X_train, Y_train = create_batch(learning_chunk[i:i+batch_size], context_size)\n",
        "\n",
        "      # forward pass\n",
        "      emb = C[X_train]\n",
        "      emb = emb.view(-1, EMBEDDING_DIM * CONTEXT_LENGTH) @ W1 + B1\n",
        "      h = torch.tanh(emb)\n",
        "      logits = h @ W2 + B2\n",
        "\n",
        "      # compute loss\n",
        "      loss = F.cross_entropy(logits, Y_train)\n",
        "\n",
        "      total_loss += loss.item() * X_val.size(0)\n",
        "      loss_ar.append(loss.item())\n",
        "\n",
        "      if i % (batch_size * 100) == 0:\n",
        "        print(f\"Processed {k + i} samples, Current loss: {loss.item():.4f}\")\n",
        "\n",
        "  avg_loss = total_loss / total_samples\n",
        "  print(f\"Testing completed. Average loss: {avg_loss:.4f}\")\n"
      ]
    },
    {
      "cell_type": "code",
      "execution_count": null,
      "metadata": {
        "id": "amOcU4OBuvSV"
      },
      "outputs": [],
      "source": [
        "# validation\n",
        "\n",
        "loss_ar = []\n",
        "total_loss = 0\n",
        "total_samples = 0\n",
        "\n",
        "with torch.no_grad():\n",
        "  for k in range(dataset_validation_borders[0], dataset_validation_borders[1], chunk_size):\n",
        "    learning_chunk = create_learning_chunk(formatted_text, k, min(k+chunk_size, dataset_validation_borders[1]))\n",
        "    for i in range(0, len(learning_chunk) - batch_size, batch_size):\n",
        "      X_train, Y_train = create_batch(learning_chunk[i:i+batch_size], context_size)\n",
        "\n",
        "      # forward pass\n",
        "      emb = C[X_train]\n",
        "      emb = emb.view(-1, EMBEDDING_DIM * CONTEXT_LENGTH) @ W1 + B1\n",
        "      h = torch.tanh(emb)\n",
        "      logits = h @ W2 + B2\n",
        "\n",
        "      # compute loss\n",
        "      loss = F.cross_entropy(logits, Y_train)\n",
        "\n",
        "      total_loss += loss.item() * X_val.size(0)\n",
        "      loss_ar.append(loss.item())\n",
        "\n",
        "      if i % (batch_size * 100) == 0:\n",
        "        print(f\"Processed {k + i} samples, Current loss: {loss.item():.4f}\")\n",
        "\n",
        "  avg_loss = total_loss / total_samples\n",
        "  print(f\"Validation completed. Average loss: {avg_loss:.4f}\")\n"
      ]
    },
    {
      "cell_type": "code",
      "execution_count": null,
      "metadata": {
        "colab": {
          "base_uri": "https://localhost:8080/"
        },
        "id": "ePHh7_MqBuvd",
        "outputId": "5c2f91a8-e895-437d-a2c5-c9f0873a56ee"
      },
      "outputs": [
        {
          "output_type": "stream",
          "name": "stdout",
          "text": [
            "<startofchat><startofuser>Hi<endofuser><startofgpt>A\n",
            "<startofchat><startofuser>Hi<endofuser><startofgpt>A consistent\n",
            "<startofchat><startofuser>Hi<endofuser><startofgpt>A consistentest\n",
            "<startofchat><startofuser>Hi<endofuser><startofgpt>A consistentest you\n",
            "<startofchat><startofuser>Hi<endofuser><startofgpt>A consistentest you other\n",
            "<startofchat><startofuser>Hi<endofuser><startofgpt>A consistentest you other the\n",
            "<startofchat><startofuser>Hi<endofuser><startofgpt>A consistentest you other the text\n",
            "<startofchat><startofuser>Hi<endofuser><startofgpt>A consistentest you other the textO\n",
            "<startofchat><startofuser>Hi<endofuser><startofgpt>A consistentest you other the textOs\n",
            "<startofchat><startofuser>Hi<endofuser><startofgpt>A consistentest you other the textOseval\n",
            "<startofchat><startofuser>Hi<endofuser><startofgpt>A consistentest you other the textOsevalian\n",
            "<startofchat><startofuser>Hi<endofuser><startofgpt>A consistentest you other the textOsevalian limerick\n",
            "<startofchat><startofuser>Hi<endofuser><startofgpt>A consistentest you other the textOsevalian limerick A\n",
            "<startofchat><startofuser>Hi<endofuser><startofgpt>A consistentest you other the textOsevalian limerick A<endofuser>\n"
          ]
        }
      ],
      "source": [
        "# user_input = input(\"Please enter your question: \")\n",
        "user_input = \"<startofchat><startofuser>Hi<endofuser><startofgpt>\"\n",
        "user_tokens = torch.tensor(sp.encode_as_ids(user_input), device=device)\n",
        "special_tokens = ['<startofuser>', '<endofuser>', '<startofgpt>', '<endofgbt>', '<startofchat>', '<endofchat>']\n",
        "def generate_token(query):\n",
        "  with torch.no_grad():\n",
        "    #  forward pass\n",
        "    emb = C[query]\n",
        "    emb = emb.view(-1, EMBEDDING_DIM * CONTEXT_LENGTH) @ W1 + B1\n",
        "    h = torch.tanh(emb)\n",
        "    logits = h @ W2 + B2\n",
        "    probs = F.softmax(logits, dim=1)\n",
        "    predicted_token_index = torch.multinomial(probs, num_samples=1)\n",
        "\n",
        "    return predicted_token_index\n",
        "\n",
        "def print_answer(tensor):\n",
        "  for i in range(len(tensor)):\n",
        "    if tensor[i] != 0:\n",
        "      print(sp.decode_ids(tensor[i:].tolist()))\n",
        "      break\n",
        "\n",
        "def generate_answer(query):\n",
        "    answer_tensor = torch.zeros((CONTEXT_LENGTH), device=device)\n",
        "    answer_tensor = torch.cat((answer_tensor, user_tokens))[len(user_tokens):]\n",
        "    answer_tensor = answer_tensor.int()\n",
        "\n",
        "    index = 0\n",
        "    while True:\n",
        "        index += 1\n",
        "        if index > 100:\n",
        "            break\n",
        "        predicted_token_index = torch.squeeze(generate_token(answer_tensor), 0)\n",
        "        answer_tensor = torch.cat((answer_tensor, predicted_token_index))[1:]\n",
        "        print_answer(answer_tensor)\n",
        "        if predicted_token_index.item() == 5:\n",
        "            break\n",
        "\n",
        "generate_answer(user_tokens)"
      ]
    }
  ],
  "metadata": {
    "colab": {
      "provenance": []
    },
    "kernelspec": {
      "display_name": "Python 3 (ipykernel)",
      "language": "python",
      "name": "python3"
    },
    "language_info": {
      "codemirror_mode": {
        "name": "ipython",
        "version": 3
      },
      "file_extension": ".py",
      "mimetype": "text/x-python",
      "name": "python",
      "nbconvert_exporter": "python",
      "pygments_lexer": "ipython3",
      "version": "3.10.10"
    },
    "widgets": {
      "application/vnd.jupyter.widget-state+json": {
        "67bba596e3f449a8b71f6f9f9b1a8c67": {
          "model_module": "@jupyter-widgets/controls",
          "model_name": "HBoxModel",
          "model_module_version": "1.5.0",
          "state": {
            "_dom_classes": [],
            "_model_module": "@jupyter-widgets/controls",
            "_model_module_version": "1.5.0",
            "_model_name": "HBoxModel",
            "_view_count": null,
            "_view_module": "@jupyter-widgets/controls",
            "_view_module_version": "1.5.0",
            "_view_name": "HBoxView",
            "box_style": "",
            "children": [
              "IPY_MODEL_e9b6ea19a7ef4e56a8ff18d116e518bb",
              "IPY_MODEL_7b022e47bfd94186b4b1007b47a86bf4",
              "IPY_MODEL_74c2773c00584f1a9f13d873432291f6"
            ],
            "layout": "IPY_MODEL_a6ff3174cf7345478f97cdb3712953ad"
          }
        },
        "e9b6ea19a7ef4e56a8ff18d116e518bb": {
          "model_module": "@jupyter-widgets/controls",
          "model_name": "HTMLModel",
          "model_module_version": "1.5.0",
          "state": {
            "_dom_classes": [],
            "_model_module": "@jupyter-widgets/controls",
            "_model_module_version": "1.5.0",
            "_model_name": "HTMLModel",
            "_view_count": null,
            "_view_module": "@jupyter-widgets/controls",
            "_view_module_version": "1.5.0",
            "_view_name": "HTMLView",
            "description": "",
            "description_tooltip": null,
            "layout": "IPY_MODEL_b2c7e1f10a72480bb4b142eae8ccac7f",
            "placeholder": "​",
            "style": "IPY_MODEL_0ca6747bd97c4f9c90b4798bb65fbf94",
            "value": "README.md: 100%"
          }
        },
        "7b022e47bfd94186b4b1007b47a86bf4": {
          "model_module": "@jupyter-widgets/controls",
          "model_name": "FloatProgressModel",
          "model_module_version": "1.5.0",
          "state": {
            "_dom_classes": [],
            "_model_module": "@jupyter-widgets/controls",
            "_model_module_version": "1.5.0",
            "_model_name": "FloatProgressModel",
            "_view_count": null,
            "_view_module": "@jupyter-widgets/controls",
            "_view_module_version": "1.5.0",
            "_view_name": "ProgressView",
            "bar_style": "success",
            "description": "",
            "description_tooltip": null,
            "layout": "IPY_MODEL_7aab59696613493391a5b8a4555f0b86",
            "max": 3180,
            "min": 0,
            "orientation": "horizontal",
            "style": "IPY_MODEL_80a0b64e48e0490287de75bbf4d1d41e",
            "value": 3180
          }
        },
        "74c2773c00584f1a9f13d873432291f6": {
          "model_module": "@jupyter-widgets/controls",
          "model_name": "HTMLModel",
          "model_module_version": "1.5.0",
          "state": {
            "_dom_classes": [],
            "_model_module": "@jupyter-widgets/controls",
            "_model_module_version": "1.5.0",
            "_model_name": "HTMLModel",
            "_view_count": null,
            "_view_module": "@jupyter-widgets/controls",
            "_view_module_version": "1.5.0",
            "_view_name": "HTMLView",
            "description": "",
            "description_tooltip": null,
            "layout": "IPY_MODEL_0554eda3ed0d4b07b14f4cb54aeec8f7",
            "placeholder": "​",
            "style": "IPY_MODEL_be344b065785416f93382c0b4bac7833",
            "value": " 3.18k/3.18k [00:00&lt;00:00, 37.5kB/s]"
          }
        },
        "a6ff3174cf7345478f97cdb3712953ad": {
          "model_module": "@jupyter-widgets/base",
          "model_name": "LayoutModel",
          "model_module_version": "1.2.0",
          "state": {
            "_model_module": "@jupyter-widgets/base",
            "_model_module_version": "1.2.0",
            "_model_name": "LayoutModel",
            "_view_count": null,
            "_view_module": "@jupyter-widgets/base",
            "_view_module_version": "1.2.0",
            "_view_name": "LayoutView",
            "align_content": null,
            "align_items": null,
            "align_self": null,
            "border": null,
            "bottom": null,
            "display": null,
            "flex": null,
            "flex_flow": null,
            "grid_area": null,
            "grid_auto_columns": null,
            "grid_auto_flow": null,
            "grid_auto_rows": null,
            "grid_column": null,
            "grid_gap": null,
            "grid_row": null,
            "grid_template_areas": null,
            "grid_template_columns": null,
            "grid_template_rows": null,
            "height": null,
            "justify_content": null,
            "justify_items": null,
            "left": null,
            "margin": null,
            "max_height": null,
            "max_width": null,
            "min_height": null,
            "min_width": null,
            "object_fit": null,
            "object_position": null,
            "order": null,
            "overflow": null,
            "overflow_x": null,
            "overflow_y": null,
            "padding": null,
            "right": null,
            "top": null,
            "visibility": null,
            "width": null
          }
        },
        "b2c7e1f10a72480bb4b142eae8ccac7f": {
          "model_module": "@jupyter-widgets/base",
          "model_name": "LayoutModel",
          "model_module_version": "1.2.0",
          "state": {
            "_model_module": "@jupyter-widgets/base",
            "_model_module_version": "1.2.0",
            "_model_name": "LayoutModel",
            "_view_count": null,
            "_view_module": "@jupyter-widgets/base",
            "_view_module_version": "1.2.0",
            "_view_name": "LayoutView",
            "align_content": null,
            "align_items": null,
            "align_self": null,
            "border": null,
            "bottom": null,
            "display": null,
            "flex": null,
            "flex_flow": null,
            "grid_area": null,
            "grid_auto_columns": null,
            "grid_auto_flow": null,
            "grid_auto_rows": null,
            "grid_column": null,
            "grid_gap": null,
            "grid_row": null,
            "grid_template_areas": null,
            "grid_template_columns": null,
            "grid_template_rows": null,
            "height": null,
            "justify_content": null,
            "justify_items": null,
            "left": null,
            "margin": null,
            "max_height": null,
            "max_width": null,
            "min_height": null,
            "min_width": null,
            "object_fit": null,
            "object_position": null,
            "order": null,
            "overflow": null,
            "overflow_x": null,
            "overflow_y": null,
            "padding": null,
            "right": null,
            "top": null,
            "visibility": null,
            "width": null
          }
        },
        "0ca6747bd97c4f9c90b4798bb65fbf94": {
          "model_module": "@jupyter-widgets/controls",
          "model_name": "DescriptionStyleModel",
          "model_module_version": "1.5.0",
          "state": {
            "_model_module": "@jupyter-widgets/controls",
            "_model_module_version": "1.5.0",
            "_model_name": "DescriptionStyleModel",
            "_view_count": null,
            "_view_module": "@jupyter-widgets/base",
            "_view_module_version": "1.2.0",
            "_view_name": "StyleView",
            "description_width": ""
          }
        },
        "7aab59696613493391a5b8a4555f0b86": {
          "model_module": "@jupyter-widgets/base",
          "model_name": "LayoutModel",
          "model_module_version": "1.2.0",
          "state": {
            "_model_module": "@jupyter-widgets/base",
            "_model_module_version": "1.2.0",
            "_model_name": "LayoutModel",
            "_view_count": null,
            "_view_module": "@jupyter-widgets/base",
            "_view_module_version": "1.2.0",
            "_view_name": "LayoutView",
            "align_content": null,
            "align_items": null,
            "align_self": null,
            "border": null,
            "bottom": null,
            "display": null,
            "flex": null,
            "flex_flow": null,
            "grid_area": null,
            "grid_auto_columns": null,
            "grid_auto_flow": null,
            "grid_auto_rows": null,
            "grid_column": null,
            "grid_gap": null,
            "grid_row": null,
            "grid_template_areas": null,
            "grid_template_columns": null,
            "grid_template_rows": null,
            "height": null,
            "justify_content": null,
            "justify_items": null,
            "left": null,
            "margin": null,
            "max_height": null,
            "max_width": null,
            "min_height": null,
            "min_width": null,
            "object_fit": null,
            "object_position": null,
            "order": null,
            "overflow": null,
            "overflow_x": null,
            "overflow_y": null,
            "padding": null,
            "right": null,
            "top": null,
            "visibility": null,
            "width": null
          }
        },
        "80a0b64e48e0490287de75bbf4d1d41e": {
          "model_module": "@jupyter-widgets/controls",
          "model_name": "ProgressStyleModel",
          "model_module_version": "1.5.0",
          "state": {
            "_model_module": "@jupyter-widgets/controls",
            "_model_module_version": "1.5.0",
            "_model_name": "ProgressStyleModel",
            "_view_count": null,
            "_view_module": "@jupyter-widgets/base",
            "_view_module_version": "1.2.0",
            "_view_name": "StyleView",
            "bar_color": null,
            "description_width": ""
          }
        },
        "0554eda3ed0d4b07b14f4cb54aeec8f7": {
          "model_module": "@jupyter-widgets/base",
          "model_name": "LayoutModel",
          "model_module_version": "1.2.0",
          "state": {
            "_model_module": "@jupyter-widgets/base",
            "_model_module_version": "1.2.0",
            "_model_name": "LayoutModel",
            "_view_count": null,
            "_view_module": "@jupyter-widgets/base",
            "_view_module_version": "1.2.0",
            "_view_name": "LayoutView",
            "align_content": null,
            "align_items": null,
            "align_self": null,
            "border": null,
            "bottom": null,
            "display": null,
            "flex": null,
            "flex_flow": null,
            "grid_area": null,
            "grid_auto_columns": null,
            "grid_auto_flow": null,
            "grid_auto_rows": null,
            "grid_column": null,
            "grid_gap": null,
            "grid_row": null,
            "grid_template_areas": null,
            "grid_template_columns": null,
            "grid_template_rows": null,
            "height": null,
            "justify_content": null,
            "justify_items": null,
            "left": null,
            "margin": null,
            "max_height": null,
            "max_width": null,
            "min_height": null,
            "min_width": null,
            "object_fit": null,
            "object_position": null,
            "order": null,
            "overflow": null,
            "overflow_x": null,
            "overflow_y": null,
            "padding": null,
            "right": null,
            "top": null,
            "visibility": null,
            "width": null
          }
        },
        "be344b065785416f93382c0b4bac7833": {
          "model_module": "@jupyter-widgets/controls",
          "model_name": "DescriptionStyleModel",
          "model_module_version": "1.5.0",
          "state": {
            "_model_module": "@jupyter-widgets/controls",
            "_model_module_version": "1.5.0",
            "_model_name": "DescriptionStyleModel",
            "_view_count": null,
            "_view_module": "@jupyter-widgets/base",
            "_view_module_version": "1.2.0",
            "_view_name": "StyleView",
            "description_width": ""
          }
        },
        "93387e64eebd4e0199477662ca9debeb": {
          "model_module": "@jupyter-widgets/controls",
          "model_name": "HBoxModel",
          "model_module_version": "1.5.0",
          "state": {
            "_dom_classes": [],
            "_model_module": "@jupyter-widgets/controls",
            "_model_module_version": "1.5.0",
            "_model_name": "HBoxModel",
            "_view_count": null,
            "_view_module": "@jupyter-widgets/controls",
            "_view_module_version": "1.5.0",
            "_view_name": "HBoxView",
            "box_style": "",
            "children": [
              "IPY_MODEL_697c2a450dbd47319b75c1d8eb938aa2",
              "IPY_MODEL_0fa0e98877ab4fe59f6cee4062bc1fe2",
              "IPY_MODEL_c37722ed56814428b814c05a38449cea"
            ],
            "layout": "IPY_MODEL_f6b35d76ec1846aea89a0f4a31910e27"
          }
        },
        "697c2a450dbd47319b75c1d8eb938aa2": {
          "model_module": "@jupyter-widgets/controls",
          "model_name": "HTMLModel",
          "model_module_version": "1.5.0",
          "state": {
            "_dom_classes": [],
            "_model_module": "@jupyter-widgets/controls",
            "_model_module_version": "1.5.0",
            "_model_name": "HTMLModel",
            "_view_count": null,
            "_view_module": "@jupyter-widgets/controls",
            "_view_module_version": "1.5.0",
            "_view_name": "HTMLView",
            "description": "",
            "description_tooltip": null,
            "layout": "IPY_MODEL_e7533c231b4a44e598da7ab811dd643c",
            "placeholder": "​",
            "style": "IPY_MODEL_eafd2b0eabc841148a6c192ccb6848b0",
            "value": "train-00000-of-00003.parquet: 100%"
          }
        },
        "0fa0e98877ab4fe59f6cee4062bc1fe2": {
          "model_module": "@jupyter-widgets/controls",
          "model_name": "FloatProgressModel",
          "model_module_version": "1.5.0",
          "state": {
            "_dom_classes": [],
            "_model_module": "@jupyter-widgets/controls",
            "_model_module_version": "1.5.0",
            "_model_name": "FloatProgressModel",
            "_view_count": null,
            "_view_module": "@jupyter-widgets/controls",
            "_view_module_version": "1.5.0",
            "_view_name": "ProgressView",
            "bar_style": "success",
            "description": "",
            "description_tooltip": null,
            "layout": "IPY_MODEL_7e21fae803cf4f85939bc10e8e143cd0",
            "max": 553225012,
            "min": 0,
            "orientation": "horizontal",
            "style": "IPY_MODEL_2619860d137749f98fe1391d96b5a158",
            "value": 553225012
          }
        },
        "c37722ed56814428b814c05a38449cea": {
          "model_module": "@jupyter-widgets/controls",
          "model_name": "HTMLModel",
          "model_module_version": "1.5.0",
          "state": {
            "_dom_classes": [],
            "_model_module": "@jupyter-widgets/controls",
            "_model_module_version": "1.5.0",
            "_model_name": "HTMLModel",
            "_view_count": null,
            "_view_module": "@jupyter-widgets/controls",
            "_view_module_version": "1.5.0",
            "_view_name": "HTMLView",
            "description": "",
            "description_tooltip": null,
            "layout": "IPY_MODEL_c840abddd1a04694aa4eb74c373de16b",
            "placeholder": "​",
            "style": "IPY_MODEL_e339a14ad72248748fe0d44bb14d89a4",
            "value": " 553M/553M [00:15&lt;00:00, 47.9MB/s]"
          }
        },
        "f6b35d76ec1846aea89a0f4a31910e27": {
          "model_module": "@jupyter-widgets/base",
          "model_name": "LayoutModel",
          "model_module_version": "1.2.0",
          "state": {
            "_model_module": "@jupyter-widgets/base",
            "_model_module_version": "1.2.0",
            "_model_name": "LayoutModel",
            "_view_count": null,
            "_view_module": "@jupyter-widgets/base",
            "_view_module_version": "1.2.0",
            "_view_name": "LayoutView",
            "align_content": null,
            "align_items": null,
            "align_self": null,
            "border": null,
            "bottom": null,
            "display": null,
            "flex": null,
            "flex_flow": null,
            "grid_area": null,
            "grid_auto_columns": null,
            "grid_auto_flow": null,
            "grid_auto_rows": null,
            "grid_column": null,
            "grid_gap": null,
            "grid_row": null,
            "grid_template_areas": null,
            "grid_template_columns": null,
            "grid_template_rows": null,
            "height": null,
            "justify_content": null,
            "justify_items": null,
            "left": null,
            "margin": null,
            "max_height": null,
            "max_width": null,
            "min_height": null,
            "min_width": null,
            "object_fit": null,
            "object_position": null,
            "order": null,
            "overflow": null,
            "overflow_x": null,
            "overflow_y": null,
            "padding": null,
            "right": null,
            "top": null,
            "visibility": null,
            "width": null
          }
        },
        "e7533c231b4a44e598da7ab811dd643c": {
          "model_module": "@jupyter-widgets/base",
          "model_name": "LayoutModel",
          "model_module_version": "1.2.0",
          "state": {
            "_model_module": "@jupyter-widgets/base",
            "_model_module_version": "1.2.0",
            "_model_name": "LayoutModel",
            "_view_count": null,
            "_view_module": "@jupyter-widgets/base",
            "_view_module_version": "1.2.0",
            "_view_name": "LayoutView",
            "align_content": null,
            "align_items": null,
            "align_self": null,
            "border": null,
            "bottom": null,
            "display": null,
            "flex": null,
            "flex_flow": null,
            "grid_area": null,
            "grid_auto_columns": null,
            "grid_auto_flow": null,
            "grid_auto_rows": null,
            "grid_column": null,
            "grid_gap": null,
            "grid_row": null,
            "grid_template_areas": null,
            "grid_template_columns": null,
            "grid_template_rows": null,
            "height": null,
            "justify_content": null,
            "justify_items": null,
            "left": null,
            "margin": null,
            "max_height": null,
            "max_width": null,
            "min_height": null,
            "min_width": null,
            "object_fit": null,
            "object_position": null,
            "order": null,
            "overflow": null,
            "overflow_x": null,
            "overflow_y": null,
            "padding": null,
            "right": null,
            "top": null,
            "visibility": null,
            "width": null
          }
        },
        "eafd2b0eabc841148a6c192ccb6848b0": {
          "model_module": "@jupyter-widgets/controls",
          "model_name": "DescriptionStyleModel",
          "model_module_version": "1.5.0",
          "state": {
            "_model_module": "@jupyter-widgets/controls",
            "_model_module_version": "1.5.0",
            "_model_name": "DescriptionStyleModel",
            "_view_count": null,
            "_view_module": "@jupyter-widgets/base",
            "_view_module_version": "1.2.0",
            "_view_name": "StyleView",
            "description_width": ""
          }
        },
        "7e21fae803cf4f85939bc10e8e143cd0": {
          "model_module": "@jupyter-widgets/base",
          "model_name": "LayoutModel",
          "model_module_version": "1.2.0",
          "state": {
            "_model_module": "@jupyter-widgets/base",
            "_model_module_version": "1.2.0",
            "_model_name": "LayoutModel",
            "_view_count": null,
            "_view_module": "@jupyter-widgets/base",
            "_view_module_version": "1.2.0",
            "_view_name": "LayoutView",
            "align_content": null,
            "align_items": null,
            "align_self": null,
            "border": null,
            "bottom": null,
            "display": null,
            "flex": null,
            "flex_flow": null,
            "grid_area": null,
            "grid_auto_columns": null,
            "grid_auto_flow": null,
            "grid_auto_rows": null,
            "grid_column": null,
            "grid_gap": null,
            "grid_row": null,
            "grid_template_areas": null,
            "grid_template_columns": null,
            "grid_template_rows": null,
            "height": null,
            "justify_content": null,
            "justify_items": null,
            "left": null,
            "margin": null,
            "max_height": null,
            "max_width": null,
            "min_height": null,
            "min_width": null,
            "object_fit": null,
            "object_position": null,
            "order": null,
            "overflow": null,
            "overflow_x": null,
            "overflow_y": null,
            "padding": null,
            "right": null,
            "top": null,
            "visibility": null,
            "width": null
          }
        },
        "2619860d137749f98fe1391d96b5a158": {
          "model_module": "@jupyter-widgets/controls",
          "model_name": "ProgressStyleModel",
          "model_module_version": "1.5.0",
          "state": {
            "_model_module": "@jupyter-widgets/controls",
            "_model_module_version": "1.5.0",
            "_model_name": "ProgressStyleModel",
            "_view_count": null,
            "_view_module": "@jupyter-widgets/base",
            "_view_module_version": "1.2.0",
            "_view_name": "StyleView",
            "bar_color": null,
            "description_width": ""
          }
        },
        "c840abddd1a04694aa4eb74c373de16b": {
          "model_module": "@jupyter-widgets/base",
          "model_name": "LayoutModel",
          "model_module_version": "1.2.0",
          "state": {
            "_model_module": "@jupyter-widgets/base",
            "_model_module_version": "1.2.0",
            "_model_name": "LayoutModel",
            "_view_count": null,
            "_view_module": "@jupyter-widgets/base",
            "_view_module_version": "1.2.0",
            "_view_name": "LayoutView",
            "align_content": null,
            "align_items": null,
            "align_self": null,
            "border": null,
            "bottom": null,
            "display": null,
            "flex": null,
            "flex_flow": null,
            "grid_area": null,
            "grid_auto_columns": null,
            "grid_auto_flow": null,
            "grid_auto_rows": null,
            "grid_column": null,
            "grid_gap": null,
            "grid_row": null,
            "grid_template_areas": null,
            "grid_template_columns": null,
            "grid_template_rows": null,
            "height": null,
            "justify_content": null,
            "justify_items": null,
            "left": null,
            "margin": null,
            "max_height": null,
            "max_width": null,
            "min_height": null,
            "min_width": null,
            "object_fit": null,
            "object_position": null,
            "order": null,
            "overflow": null,
            "overflow_x": null,
            "overflow_y": null,
            "padding": null,
            "right": null,
            "top": null,
            "visibility": null,
            "width": null
          }
        },
        "e339a14ad72248748fe0d44bb14d89a4": {
          "model_module": "@jupyter-widgets/controls",
          "model_name": "DescriptionStyleModel",
          "model_module_version": "1.5.0",
          "state": {
            "_model_module": "@jupyter-widgets/controls",
            "_model_module_version": "1.5.0",
            "_model_name": "DescriptionStyleModel",
            "_view_count": null,
            "_view_module": "@jupyter-widgets/base",
            "_view_module_version": "1.2.0",
            "_view_name": "StyleView",
            "description_width": ""
          }
        },
        "79a8324d814841998d5210f4b59c85fe": {
          "model_module": "@jupyter-widgets/controls",
          "model_name": "HBoxModel",
          "model_module_version": "1.5.0",
          "state": {
            "_dom_classes": [],
            "_model_module": "@jupyter-widgets/controls",
            "_model_module_version": "1.5.0",
            "_model_name": "HBoxModel",
            "_view_count": null,
            "_view_module": "@jupyter-widgets/controls",
            "_view_module_version": "1.5.0",
            "_view_name": "HBoxView",
            "box_style": "",
            "children": [
              "IPY_MODEL_3923bc04659b4f469343e278ac67688f",
              "IPY_MODEL_a53433ca84a64b789ec35cf0801676c6",
              "IPY_MODEL_80b747609ea34e3f8c91b2daa566eb9b"
            ],
            "layout": "IPY_MODEL_7a6ecbc45f774ecb96c6ba9cd3e432ac"
          }
        },
        "3923bc04659b4f469343e278ac67688f": {
          "model_module": "@jupyter-widgets/controls",
          "model_name": "HTMLModel",
          "model_module_version": "1.5.0",
          "state": {
            "_dom_classes": [],
            "_model_module": "@jupyter-widgets/controls",
            "_model_module_version": "1.5.0",
            "_model_name": "HTMLModel",
            "_view_count": null,
            "_view_module": "@jupyter-widgets/controls",
            "_view_module_version": "1.5.0",
            "_view_name": "HTMLView",
            "description": "",
            "description_tooltip": null,
            "layout": "IPY_MODEL_bb08a4e9b07b4545ac1f71dddcd3c96f",
            "placeholder": "​",
            "style": "IPY_MODEL_3e20d0332b4d48b68f5a6004400c92e9",
            "value": "train-00001-of-00003.parquet: 100%"
          }
        },
        "a53433ca84a64b789ec35cf0801676c6": {
          "model_module": "@jupyter-widgets/controls",
          "model_name": "FloatProgressModel",
          "model_module_version": "1.5.0",
          "state": {
            "_dom_classes": [],
            "_model_module": "@jupyter-widgets/controls",
            "_model_module_version": "1.5.0",
            "_model_name": "FloatProgressModel",
            "_view_count": null,
            "_view_module": "@jupyter-widgets/controls",
            "_view_module_version": "1.5.0",
            "_view_name": "ProgressView",
            "bar_style": "success",
            "description": "",
            "description_tooltip": null,
            "layout": "IPY_MODEL_c8eb6016108b4536b8b0524ad4af677f",
            "max": 305085279,
            "min": 0,
            "orientation": "horizontal",
            "style": "IPY_MODEL_af36c07a7d1b4e48b1fb5281336f80e7",
            "value": 305085279
          }
        },
        "80b747609ea34e3f8c91b2daa566eb9b": {
          "model_module": "@jupyter-widgets/controls",
          "model_name": "HTMLModel",
          "model_module_version": "1.5.0",
          "state": {
            "_dom_classes": [],
            "_model_module": "@jupyter-widgets/controls",
            "_model_module_version": "1.5.0",
            "_model_name": "HTMLModel",
            "_view_count": null,
            "_view_module": "@jupyter-widgets/controls",
            "_view_module_version": "1.5.0",
            "_view_name": "HTMLView",
            "description": "",
            "description_tooltip": null,
            "layout": "IPY_MODEL_c5b6629318ad4efe954e2c3221921b55",
            "placeholder": "​",
            "style": "IPY_MODEL_31d2eeacc9cf478e9b8f9271faab4e0d",
            "value": " 305M/305M [00:04&lt;00:00, 58.9MB/s]"
          }
        },
        "7a6ecbc45f774ecb96c6ba9cd3e432ac": {
          "model_module": "@jupyter-widgets/base",
          "model_name": "LayoutModel",
          "model_module_version": "1.2.0",
          "state": {
            "_model_module": "@jupyter-widgets/base",
            "_model_module_version": "1.2.0",
            "_model_name": "LayoutModel",
            "_view_count": null,
            "_view_module": "@jupyter-widgets/base",
            "_view_module_version": "1.2.0",
            "_view_name": "LayoutView",
            "align_content": null,
            "align_items": null,
            "align_self": null,
            "border": null,
            "bottom": null,
            "display": null,
            "flex": null,
            "flex_flow": null,
            "grid_area": null,
            "grid_auto_columns": null,
            "grid_auto_flow": null,
            "grid_auto_rows": null,
            "grid_column": null,
            "grid_gap": null,
            "grid_row": null,
            "grid_template_areas": null,
            "grid_template_columns": null,
            "grid_template_rows": null,
            "height": null,
            "justify_content": null,
            "justify_items": null,
            "left": null,
            "margin": null,
            "max_height": null,
            "max_width": null,
            "min_height": null,
            "min_width": null,
            "object_fit": null,
            "object_position": null,
            "order": null,
            "overflow": null,
            "overflow_x": null,
            "overflow_y": null,
            "padding": null,
            "right": null,
            "top": null,
            "visibility": null,
            "width": null
          }
        },
        "bb08a4e9b07b4545ac1f71dddcd3c96f": {
          "model_module": "@jupyter-widgets/base",
          "model_name": "LayoutModel",
          "model_module_version": "1.2.0",
          "state": {
            "_model_module": "@jupyter-widgets/base",
            "_model_module_version": "1.2.0",
            "_model_name": "LayoutModel",
            "_view_count": null,
            "_view_module": "@jupyter-widgets/base",
            "_view_module_version": "1.2.0",
            "_view_name": "LayoutView",
            "align_content": null,
            "align_items": null,
            "align_self": null,
            "border": null,
            "bottom": null,
            "display": null,
            "flex": null,
            "flex_flow": null,
            "grid_area": null,
            "grid_auto_columns": null,
            "grid_auto_flow": null,
            "grid_auto_rows": null,
            "grid_column": null,
            "grid_gap": null,
            "grid_row": null,
            "grid_template_areas": null,
            "grid_template_columns": null,
            "grid_template_rows": null,
            "height": null,
            "justify_content": null,
            "justify_items": null,
            "left": null,
            "margin": null,
            "max_height": null,
            "max_width": null,
            "min_height": null,
            "min_width": null,
            "object_fit": null,
            "object_position": null,
            "order": null,
            "overflow": null,
            "overflow_x": null,
            "overflow_y": null,
            "padding": null,
            "right": null,
            "top": null,
            "visibility": null,
            "width": null
          }
        },
        "3e20d0332b4d48b68f5a6004400c92e9": {
          "model_module": "@jupyter-widgets/controls",
          "model_name": "DescriptionStyleModel",
          "model_module_version": "1.5.0",
          "state": {
            "_model_module": "@jupyter-widgets/controls",
            "_model_module_version": "1.5.0",
            "_model_name": "DescriptionStyleModel",
            "_view_count": null,
            "_view_module": "@jupyter-widgets/base",
            "_view_module_version": "1.2.0",
            "_view_name": "StyleView",
            "description_width": ""
          }
        },
        "c8eb6016108b4536b8b0524ad4af677f": {
          "model_module": "@jupyter-widgets/base",
          "model_name": "LayoutModel",
          "model_module_version": "1.2.0",
          "state": {
            "_model_module": "@jupyter-widgets/base",
            "_model_module_version": "1.2.0",
            "_model_name": "LayoutModel",
            "_view_count": null,
            "_view_module": "@jupyter-widgets/base",
            "_view_module_version": "1.2.0",
            "_view_name": "LayoutView",
            "align_content": null,
            "align_items": null,
            "align_self": null,
            "border": null,
            "bottom": null,
            "display": null,
            "flex": null,
            "flex_flow": null,
            "grid_area": null,
            "grid_auto_columns": null,
            "grid_auto_flow": null,
            "grid_auto_rows": null,
            "grid_column": null,
            "grid_gap": null,
            "grid_row": null,
            "grid_template_areas": null,
            "grid_template_columns": null,
            "grid_template_rows": null,
            "height": null,
            "justify_content": null,
            "justify_items": null,
            "left": null,
            "margin": null,
            "max_height": null,
            "max_width": null,
            "min_height": null,
            "min_width": null,
            "object_fit": null,
            "object_position": null,
            "order": null,
            "overflow": null,
            "overflow_x": null,
            "overflow_y": null,
            "padding": null,
            "right": null,
            "top": null,
            "visibility": null,
            "width": null
          }
        },
        "af36c07a7d1b4e48b1fb5281336f80e7": {
          "model_module": "@jupyter-widgets/controls",
          "model_name": "ProgressStyleModel",
          "model_module_version": "1.5.0",
          "state": {
            "_model_module": "@jupyter-widgets/controls",
            "_model_module_version": "1.5.0",
            "_model_name": "ProgressStyleModel",
            "_view_count": null,
            "_view_module": "@jupyter-widgets/base",
            "_view_module_version": "1.2.0",
            "_view_name": "StyleView",
            "bar_color": null,
            "description_width": ""
          }
        },
        "c5b6629318ad4efe954e2c3221921b55": {
          "model_module": "@jupyter-widgets/base",
          "model_name": "LayoutModel",
          "model_module_version": "1.2.0",
          "state": {
            "_model_module": "@jupyter-widgets/base",
            "_model_module_version": "1.2.0",
            "_model_name": "LayoutModel",
            "_view_count": null,
            "_view_module": "@jupyter-widgets/base",
            "_view_module_version": "1.2.0",
            "_view_name": "LayoutView",
            "align_content": null,
            "align_items": null,
            "align_self": null,
            "border": null,
            "bottom": null,
            "display": null,
            "flex": null,
            "flex_flow": null,
            "grid_area": null,
            "grid_auto_columns": null,
            "grid_auto_flow": null,
            "grid_auto_rows": null,
            "grid_column": null,
            "grid_gap": null,
            "grid_row": null,
            "grid_template_areas": null,
            "grid_template_columns": null,
            "grid_template_rows": null,
            "height": null,
            "justify_content": null,
            "justify_items": null,
            "left": null,
            "margin": null,
            "max_height": null,
            "max_width": null,
            "min_height": null,
            "min_width": null,
            "object_fit": null,
            "object_position": null,
            "order": null,
            "overflow": null,
            "overflow_x": null,
            "overflow_y": null,
            "padding": null,
            "right": null,
            "top": null,
            "visibility": null,
            "width": null
          }
        },
        "31d2eeacc9cf478e9b8f9271faab4e0d": {
          "model_module": "@jupyter-widgets/controls",
          "model_name": "DescriptionStyleModel",
          "model_module_version": "1.5.0",
          "state": {
            "_model_module": "@jupyter-widgets/controls",
            "_model_module_version": "1.5.0",
            "_model_name": "DescriptionStyleModel",
            "_view_count": null,
            "_view_module": "@jupyter-widgets/base",
            "_view_module_version": "1.2.0",
            "_view_name": "StyleView",
            "description_width": ""
          }
        },
        "68a2ab0d57614d67b9c2ff486e96bc41": {
          "model_module": "@jupyter-widgets/controls",
          "model_name": "HBoxModel",
          "model_module_version": "1.5.0",
          "state": {
            "_dom_classes": [],
            "_model_module": "@jupyter-widgets/controls",
            "_model_module_version": "1.5.0",
            "_model_name": "HBoxModel",
            "_view_count": null,
            "_view_module": "@jupyter-widgets/controls",
            "_view_module_version": "1.5.0",
            "_view_name": "HBoxView",
            "box_style": "",
            "children": [
              "IPY_MODEL_ca99ff59850f44bd90c079fa5269bff1",
              "IPY_MODEL_0028852d579a45f681f0b222e4c28b3c",
              "IPY_MODEL_d075893c3c384640922c455a0a509be1"
            ],
            "layout": "IPY_MODEL_1b34444d4a1942f89f9e4cbac7c6cef3"
          }
        },
        "ca99ff59850f44bd90c079fa5269bff1": {
          "model_module": "@jupyter-widgets/controls",
          "model_name": "HTMLModel",
          "model_module_version": "1.5.0",
          "state": {
            "_dom_classes": [],
            "_model_module": "@jupyter-widgets/controls",
            "_model_module_version": "1.5.0",
            "_model_name": "HTMLModel",
            "_view_count": null,
            "_view_module": "@jupyter-widgets/controls",
            "_view_module_version": "1.5.0",
            "_view_name": "HTMLView",
            "description": "",
            "description_tooltip": null,
            "layout": "IPY_MODEL_ae645db83b8045768e2075d8be94f564",
            "placeholder": "​",
            "style": "IPY_MODEL_6871a4a099fc4227b4c17a529dc8ce32",
            "value": "train-00002-of-00003.parquet: 100%"
          }
        },
        "0028852d579a45f681f0b222e4c28b3c": {
          "model_module": "@jupyter-widgets/controls",
          "model_name": "FloatProgressModel",
          "model_module_version": "1.5.0",
          "state": {
            "_dom_classes": [],
            "_model_module": "@jupyter-widgets/controls",
            "_model_module_version": "1.5.0",
            "_model_name": "FloatProgressModel",
            "_view_count": null,
            "_view_module": "@jupyter-widgets/controls",
            "_view_module_version": "1.5.0",
            "_view_name": "ProgressView",
            "bar_style": "success",
            "description": "",
            "description_tooltip": null,
            "layout": "IPY_MODEL_de44d6943954466ab6790c0b25975dcc",
            "max": 579297965,
            "min": 0,
            "orientation": "horizontal",
            "style": "IPY_MODEL_5536f9ef8b1f45f197903256893825c2",
            "value": 579297965
          }
        },
        "d075893c3c384640922c455a0a509be1": {
          "model_module": "@jupyter-widgets/controls",
          "model_name": "HTMLModel",
          "model_module_version": "1.5.0",
          "state": {
            "_dom_classes": [],
            "_model_module": "@jupyter-widgets/controls",
            "_model_module_version": "1.5.0",
            "_model_name": "HTMLModel",
            "_view_count": null,
            "_view_module": "@jupyter-widgets/controls",
            "_view_module_version": "1.5.0",
            "_view_name": "HTMLView",
            "description": "",
            "description_tooltip": null,
            "layout": "IPY_MODEL_8832db744ced4e159f3bf19ba0919833",
            "placeholder": "​",
            "style": "IPY_MODEL_d4cb67da0dc64a8fb196d0a97203e1f0",
            "value": " 579M/579M [00:05&lt;00:00, 164MB/s]"
          }
        },
        "1b34444d4a1942f89f9e4cbac7c6cef3": {
          "model_module": "@jupyter-widgets/base",
          "model_name": "LayoutModel",
          "model_module_version": "1.2.0",
          "state": {
            "_model_module": "@jupyter-widgets/base",
            "_model_module_version": "1.2.0",
            "_model_name": "LayoutModel",
            "_view_count": null,
            "_view_module": "@jupyter-widgets/base",
            "_view_module_version": "1.2.0",
            "_view_name": "LayoutView",
            "align_content": null,
            "align_items": null,
            "align_self": null,
            "border": null,
            "bottom": null,
            "display": null,
            "flex": null,
            "flex_flow": null,
            "grid_area": null,
            "grid_auto_columns": null,
            "grid_auto_flow": null,
            "grid_auto_rows": null,
            "grid_column": null,
            "grid_gap": null,
            "grid_row": null,
            "grid_template_areas": null,
            "grid_template_columns": null,
            "grid_template_rows": null,
            "height": null,
            "justify_content": null,
            "justify_items": null,
            "left": null,
            "margin": null,
            "max_height": null,
            "max_width": null,
            "min_height": null,
            "min_width": null,
            "object_fit": null,
            "object_position": null,
            "order": null,
            "overflow": null,
            "overflow_x": null,
            "overflow_y": null,
            "padding": null,
            "right": null,
            "top": null,
            "visibility": null,
            "width": null
          }
        },
        "ae645db83b8045768e2075d8be94f564": {
          "model_module": "@jupyter-widgets/base",
          "model_name": "LayoutModel",
          "model_module_version": "1.2.0",
          "state": {
            "_model_module": "@jupyter-widgets/base",
            "_model_module_version": "1.2.0",
            "_model_name": "LayoutModel",
            "_view_count": null,
            "_view_module": "@jupyter-widgets/base",
            "_view_module_version": "1.2.0",
            "_view_name": "LayoutView",
            "align_content": null,
            "align_items": null,
            "align_self": null,
            "border": null,
            "bottom": null,
            "display": null,
            "flex": null,
            "flex_flow": null,
            "grid_area": null,
            "grid_auto_columns": null,
            "grid_auto_flow": null,
            "grid_auto_rows": null,
            "grid_column": null,
            "grid_gap": null,
            "grid_row": null,
            "grid_template_areas": null,
            "grid_template_columns": null,
            "grid_template_rows": null,
            "height": null,
            "justify_content": null,
            "justify_items": null,
            "left": null,
            "margin": null,
            "max_height": null,
            "max_width": null,
            "min_height": null,
            "min_width": null,
            "object_fit": null,
            "object_position": null,
            "order": null,
            "overflow": null,
            "overflow_x": null,
            "overflow_y": null,
            "padding": null,
            "right": null,
            "top": null,
            "visibility": null,
            "width": null
          }
        },
        "6871a4a099fc4227b4c17a529dc8ce32": {
          "model_module": "@jupyter-widgets/controls",
          "model_name": "DescriptionStyleModel",
          "model_module_version": "1.5.0",
          "state": {
            "_model_module": "@jupyter-widgets/controls",
            "_model_module_version": "1.5.0",
            "_model_name": "DescriptionStyleModel",
            "_view_count": null,
            "_view_module": "@jupyter-widgets/base",
            "_view_module_version": "1.2.0",
            "_view_name": "StyleView",
            "description_width": ""
          }
        },
        "de44d6943954466ab6790c0b25975dcc": {
          "model_module": "@jupyter-widgets/base",
          "model_name": "LayoutModel",
          "model_module_version": "1.2.0",
          "state": {
            "_model_module": "@jupyter-widgets/base",
            "_model_module_version": "1.2.0",
            "_model_name": "LayoutModel",
            "_view_count": null,
            "_view_module": "@jupyter-widgets/base",
            "_view_module_version": "1.2.0",
            "_view_name": "LayoutView",
            "align_content": null,
            "align_items": null,
            "align_self": null,
            "border": null,
            "bottom": null,
            "display": null,
            "flex": null,
            "flex_flow": null,
            "grid_area": null,
            "grid_auto_columns": null,
            "grid_auto_flow": null,
            "grid_auto_rows": null,
            "grid_column": null,
            "grid_gap": null,
            "grid_row": null,
            "grid_template_areas": null,
            "grid_template_columns": null,
            "grid_template_rows": null,
            "height": null,
            "justify_content": null,
            "justify_items": null,
            "left": null,
            "margin": null,
            "max_height": null,
            "max_width": null,
            "min_height": null,
            "min_width": null,
            "object_fit": null,
            "object_position": null,
            "order": null,
            "overflow": null,
            "overflow_x": null,
            "overflow_y": null,
            "padding": null,
            "right": null,
            "top": null,
            "visibility": null,
            "width": null
          }
        },
        "5536f9ef8b1f45f197903256893825c2": {
          "model_module": "@jupyter-widgets/controls",
          "model_name": "ProgressStyleModel",
          "model_module_version": "1.5.0",
          "state": {
            "_model_module": "@jupyter-widgets/controls",
            "_model_module_version": "1.5.0",
            "_model_name": "ProgressStyleModel",
            "_view_count": null,
            "_view_module": "@jupyter-widgets/base",
            "_view_module_version": "1.2.0",
            "_view_name": "StyleView",
            "bar_color": null,
            "description_width": ""
          }
        },
        "8832db744ced4e159f3bf19ba0919833": {
          "model_module": "@jupyter-widgets/base",
          "model_name": "LayoutModel",
          "model_module_version": "1.2.0",
          "state": {
            "_model_module": "@jupyter-widgets/base",
            "_model_module_version": "1.2.0",
            "_model_name": "LayoutModel",
            "_view_count": null,
            "_view_module": "@jupyter-widgets/base",
            "_view_module_version": "1.2.0",
            "_view_name": "LayoutView",
            "align_content": null,
            "align_items": null,
            "align_self": null,
            "border": null,
            "bottom": null,
            "display": null,
            "flex": null,
            "flex_flow": null,
            "grid_area": null,
            "grid_auto_columns": null,
            "grid_auto_flow": null,
            "grid_auto_rows": null,
            "grid_column": null,
            "grid_gap": null,
            "grid_row": null,
            "grid_template_areas": null,
            "grid_template_columns": null,
            "grid_template_rows": null,
            "height": null,
            "justify_content": null,
            "justify_items": null,
            "left": null,
            "margin": null,
            "max_height": null,
            "max_width": null,
            "min_height": null,
            "min_width": null,
            "object_fit": null,
            "object_position": null,
            "order": null,
            "overflow": null,
            "overflow_x": null,
            "overflow_y": null,
            "padding": null,
            "right": null,
            "top": null,
            "visibility": null,
            "width": null
          }
        },
        "d4cb67da0dc64a8fb196d0a97203e1f0": {
          "model_module": "@jupyter-widgets/controls",
          "model_name": "DescriptionStyleModel",
          "model_module_version": "1.5.0",
          "state": {
            "_model_module": "@jupyter-widgets/controls",
            "_model_module_version": "1.5.0",
            "_model_name": "DescriptionStyleModel",
            "_view_count": null,
            "_view_module": "@jupyter-widgets/base",
            "_view_module_version": "1.2.0",
            "_view_name": "StyleView",
            "description_width": ""
          }
        },
        "7337a7e3fa4d4fd0a98d848cdaef8c6e": {
          "model_module": "@jupyter-widgets/controls",
          "model_name": "HBoxModel",
          "model_module_version": "1.5.0",
          "state": {
            "_dom_classes": [],
            "_model_module": "@jupyter-widgets/controls",
            "_model_module_version": "1.5.0",
            "_model_name": "HBoxModel",
            "_view_count": null,
            "_view_module": "@jupyter-widgets/controls",
            "_view_module_version": "1.5.0",
            "_view_name": "HBoxView",
            "box_style": "",
            "children": [
              "IPY_MODEL_08b4c5a78bc0441aa9ab81d87ca1e9c7",
              "IPY_MODEL_c504603e678c427787744953f9e9ff6d",
              "IPY_MODEL_afed8676d7134eb2be39fa67b97bfa34"
            ],
            "layout": "IPY_MODEL_e6c73484414747f3a5f97344910982c9"
          }
        },
        "08b4c5a78bc0441aa9ab81d87ca1e9c7": {
          "model_module": "@jupyter-widgets/controls",
          "model_name": "HTMLModel",
          "model_module_version": "1.5.0",
          "state": {
            "_dom_classes": [],
            "_model_module": "@jupyter-widgets/controls",
            "_model_module_version": "1.5.0",
            "_model_name": "HTMLModel",
            "_view_count": null,
            "_view_module": "@jupyter-widgets/controls",
            "_view_module_version": "1.5.0",
            "_view_name": "HTMLView",
            "description": "",
            "description_tooltip": null,
            "layout": "IPY_MODEL_d7b814f4514646da9f0c245b7c1192e8",
            "placeholder": "​",
            "style": "IPY_MODEL_d142e2006a68447fbe0f8aa4c3d7178d",
            "value": "Generating train split: 100%"
          }
        },
        "c504603e678c427787744953f9e9ff6d": {
          "model_module": "@jupyter-widgets/controls",
          "model_name": "FloatProgressModel",
          "model_module_version": "1.5.0",
          "state": {
            "_dom_classes": [],
            "_model_module": "@jupyter-widgets/controls",
            "_model_module_version": "1.5.0",
            "_model_name": "FloatProgressModel",
            "_view_count": null,
            "_view_module": "@jupyter-widgets/controls",
            "_view_module_version": "1.5.0",
            "_view_name": "ProgressView",
            "bar_style": "success",
            "description": "",
            "description_tooltip": null,
            "layout": "IPY_MODEL_6c3d3b364ed84ea08572c60bcd1226bf",
            "max": 1581885,
            "min": 0,
            "orientation": "horizontal",
            "style": "IPY_MODEL_30e81dc736424e35ba1da6c4274e3c56",
            "value": 1581885
          }
        },
        "afed8676d7134eb2be39fa67b97bfa34": {
          "model_module": "@jupyter-widgets/controls",
          "model_name": "HTMLModel",
          "model_module_version": "1.5.0",
          "state": {
            "_dom_classes": [],
            "_model_module": "@jupyter-widgets/controls",
            "_model_module_version": "1.5.0",
            "_model_name": "HTMLModel",
            "_view_count": null,
            "_view_module": "@jupyter-widgets/controls",
            "_view_module_version": "1.5.0",
            "_view_name": "HTMLView",
            "description": "",
            "description_tooltip": null,
            "layout": "IPY_MODEL_26ee0efffd5d4b8597c5bded0a19f040",
            "placeholder": "​",
            "style": "IPY_MODEL_4091054e0130494d9dfb7b659b574959",
            "value": " 1581885/1581885 [00:36&lt;00:00, 62913.60 examples/s]"
          }
        },
        "e6c73484414747f3a5f97344910982c9": {
          "model_module": "@jupyter-widgets/base",
          "model_name": "LayoutModel",
          "model_module_version": "1.2.0",
          "state": {
            "_model_module": "@jupyter-widgets/base",
            "_model_module_version": "1.2.0",
            "_model_name": "LayoutModel",
            "_view_count": null,
            "_view_module": "@jupyter-widgets/base",
            "_view_module_version": "1.2.0",
            "_view_name": "LayoutView",
            "align_content": null,
            "align_items": null,
            "align_self": null,
            "border": null,
            "bottom": null,
            "display": null,
            "flex": null,
            "flex_flow": null,
            "grid_area": null,
            "grid_auto_columns": null,
            "grid_auto_flow": null,
            "grid_auto_rows": null,
            "grid_column": null,
            "grid_gap": null,
            "grid_row": null,
            "grid_template_areas": null,
            "grid_template_columns": null,
            "grid_template_rows": null,
            "height": null,
            "justify_content": null,
            "justify_items": null,
            "left": null,
            "margin": null,
            "max_height": null,
            "max_width": null,
            "min_height": null,
            "min_width": null,
            "object_fit": null,
            "object_position": null,
            "order": null,
            "overflow": null,
            "overflow_x": null,
            "overflow_y": null,
            "padding": null,
            "right": null,
            "top": null,
            "visibility": null,
            "width": null
          }
        },
        "d7b814f4514646da9f0c245b7c1192e8": {
          "model_module": "@jupyter-widgets/base",
          "model_name": "LayoutModel",
          "model_module_version": "1.2.0",
          "state": {
            "_model_module": "@jupyter-widgets/base",
            "_model_module_version": "1.2.0",
            "_model_name": "LayoutModel",
            "_view_count": null,
            "_view_module": "@jupyter-widgets/base",
            "_view_module_version": "1.2.0",
            "_view_name": "LayoutView",
            "align_content": null,
            "align_items": null,
            "align_self": null,
            "border": null,
            "bottom": null,
            "display": null,
            "flex": null,
            "flex_flow": null,
            "grid_area": null,
            "grid_auto_columns": null,
            "grid_auto_flow": null,
            "grid_auto_rows": null,
            "grid_column": null,
            "grid_gap": null,
            "grid_row": null,
            "grid_template_areas": null,
            "grid_template_columns": null,
            "grid_template_rows": null,
            "height": null,
            "justify_content": null,
            "justify_items": null,
            "left": null,
            "margin": null,
            "max_height": null,
            "max_width": null,
            "min_height": null,
            "min_width": null,
            "object_fit": null,
            "object_position": null,
            "order": null,
            "overflow": null,
            "overflow_x": null,
            "overflow_y": null,
            "padding": null,
            "right": null,
            "top": null,
            "visibility": null,
            "width": null
          }
        },
        "d142e2006a68447fbe0f8aa4c3d7178d": {
          "model_module": "@jupyter-widgets/controls",
          "model_name": "DescriptionStyleModel",
          "model_module_version": "1.5.0",
          "state": {
            "_model_module": "@jupyter-widgets/controls",
            "_model_module_version": "1.5.0",
            "_model_name": "DescriptionStyleModel",
            "_view_count": null,
            "_view_module": "@jupyter-widgets/base",
            "_view_module_version": "1.2.0",
            "_view_name": "StyleView",
            "description_width": ""
          }
        },
        "6c3d3b364ed84ea08572c60bcd1226bf": {
          "model_module": "@jupyter-widgets/base",
          "model_name": "LayoutModel",
          "model_module_version": "1.2.0",
          "state": {
            "_model_module": "@jupyter-widgets/base",
            "_model_module_version": "1.2.0",
            "_model_name": "LayoutModel",
            "_view_count": null,
            "_view_module": "@jupyter-widgets/base",
            "_view_module_version": "1.2.0",
            "_view_name": "LayoutView",
            "align_content": null,
            "align_items": null,
            "align_self": null,
            "border": null,
            "bottom": null,
            "display": null,
            "flex": null,
            "flex_flow": null,
            "grid_area": null,
            "grid_auto_columns": null,
            "grid_auto_flow": null,
            "grid_auto_rows": null,
            "grid_column": null,
            "grid_gap": null,
            "grid_row": null,
            "grid_template_areas": null,
            "grid_template_columns": null,
            "grid_template_rows": null,
            "height": null,
            "justify_content": null,
            "justify_items": null,
            "left": null,
            "margin": null,
            "max_height": null,
            "max_width": null,
            "min_height": null,
            "min_width": null,
            "object_fit": null,
            "object_position": null,
            "order": null,
            "overflow": null,
            "overflow_x": null,
            "overflow_y": null,
            "padding": null,
            "right": null,
            "top": null,
            "visibility": null,
            "width": null
          }
        },
        "30e81dc736424e35ba1da6c4274e3c56": {
          "model_module": "@jupyter-widgets/controls",
          "model_name": "ProgressStyleModel",
          "model_module_version": "1.5.0",
          "state": {
            "_model_module": "@jupyter-widgets/controls",
            "_model_module_version": "1.5.0",
            "_model_name": "ProgressStyleModel",
            "_view_count": null,
            "_view_module": "@jupyter-widgets/base",
            "_view_module_version": "1.2.0",
            "_view_name": "StyleView",
            "bar_color": null,
            "description_width": ""
          }
        },
        "26ee0efffd5d4b8597c5bded0a19f040": {
          "model_module": "@jupyter-widgets/base",
          "model_name": "LayoutModel",
          "model_module_version": "1.2.0",
          "state": {
            "_model_module": "@jupyter-widgets/base",
            "_model_module_version": "1.2.0",
            "_model_name": "LayoutModel",
            "_view_count": null,
            "_view_module": "@jupyter-widgets/base",
            "_view_module_version": "1.2.0",
            "_view_name": "LayoutView",
            "align_content": null,
            "align_items": null,
            "align_self": null,
            "border": null,
            "bottom": null,
            "display": null,
            "flex": null,
            "flex_flow": null,
            "grid_area": null,
            "grid_auto_columns": null,
            "grid_auto_flow": null,
            "grid_auto_rows": null,
            "grid_column": null,
            "grid_gap": null,
            "grid_row": null,
            "grid_template_areas": null,
            "grid_template_columns": null,
            "grid_template_rows": null,
            "height": null,
            "justify_content": null,
            "justify_items": null,
            "left": null,
            "margin": null,
            "max_height": null,
            "max_width": null,
            "min_height": null,
            "min_width": null,
            "object_fit": null,
            "object_position": null,
            "order": null,
            "overflow": null,
            "overflow_x": null,
            "overflow_y": null,
            "padding": null,
            "right": null,
            "top": null,
            "visibility": null,
            "width": null
          }
        },
        "4091054e0130494d9dfb7b659b574959": {
          "model_module": "@jupyter-widgets/controls",
          "model_name": "DescriptionStyleModel",
          "model_module_version": "1.5.0",
          "state": {
            "_model_module": "@jupyter-widgets/controls",
            "_model_module_version": "1.5.0",
            "_model_name": "DescriptionStyleModel",
            "_view_count": null,
            "_view_module": "@jupyter-widgets/base",
            "_view_module_version": "1.2.0",
            "_view_name": "StyleView",
            "description_width": ""
          }
        }
      }
    }
  },
  "nbformat": 4,
  "nbformat_minor": 0
}