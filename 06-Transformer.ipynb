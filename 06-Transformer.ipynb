{
  "nbformat": 4,
  "nbformat_minor": 0,
  "metadata": {
    "colab": {
      "provenance": []
    },
    "kernelspec": {
      "name": "python3",
      "display_name": "Python 3"
    },
    "language_info": {
      "name": "python"
    }
  },
  "cells": [
    {
      "cell_type": "code",
      "execution_count": 22,
      "metadata": {
        "id": "9yFD1SyVwM-q",
        "colab": {
          "base_uri": "https://localhost:8080/"
        },
        "outputId": "dc811972-69d5-494c-c287-b01d5544e3b2"
      },
      "outputs": [
        {
          "output_type": "stream",
          "name": "stdout",
          "text": [
            "Requirement already satisfied: tqdm in /usr/local/lib/python3.11/dist-packages (4.67.1)\n"
          ]
        }
      ],
      "source": [
        "from google.colab import drive\n",
        "!pip install tqdm\n",
        "from tqdm import tqdm\n",
        "import torch\n",
        "import numpy as np\n",
        "import torch.nn.functional as F\n",
        "import torch.nn as nn\n",
        "import matplotlib.pyplot as plt\n",
        "import random\n",
        "\n",
        "device = torch.device('cuda' if torch.cuda.is_available() else 'cpu')"
      ]
    },
    {
      "cell_type": "markdown",
      "source": [
        "# Prepare Shecspir Dataset"
      ],
      "metadata": {
        "id": "VYNfrDwvXKFY"
      }
    },
    {
      "cell_type": "code",
      "source": [
        "!wget https://raw.githubusercontent.com/karpathy/char-rnn/master/data/tinyshakespeare/input.txt\n",
        "with open('input.txt', 'r', encoding='utf-8') as f:\n",
        "    text = f.read()\n",
        "\n",
        "# generate datasets\n",
        "context_length = 32\n",
        "eval_iters = 200\n",
        "\n",
        "chars = sorted(list(set(text)))\n",
        "vocab_size = len(chars)\n",
        "stoi = { ch:i for i,ch in enumerate(chars) }\n",
        "itos = { i:ch for i,ch in enumerate(chars) }\n",
        "encode = lambda s: [stoi[c] for c in s]\n",
        "decode = lambda l: ''.join([itos[i] for i in l])\n",
        "\n",
        "data = torch.tensor(encode(text), dtype=torch.long)\n",
        "n = int(0.9*len(data))\n",
        "train_data = data[:n]\n",
        "val_data = data[n:]\n",
        "\n",
        "def get_batch(split):\n",
        "    data = train_data if split == 'train' else val_data\n",
        "    ix = torch.randint(len(data) - context_length, (batch_size,))\n",
        "    x = torch.stack([data[i:i+context_length] for i in ix])\n",
        "    y = torch.stack([data[i+1:i+context_length+1] for i in ix])\n",
        "    x, y = x.to(device), y.to(device)\n",
        "    return x, y"
      ],
      "metadata": {
        "id": "psDwI-9bXH8b",
        "colab": {
          "base_uri": "https://localhost:8080/"
        },
        "outputId": "0876635a-cfab-420d-c2df-7c38d23c20d8"
      },
      "execution_count": 23,
      "outputs": [
        {
          "output_type": "stream",
          "name": "stdout",
          "text": [
            "--2025-01-20 13:11:02--  https://raw.githubusercontent.com/karpathy/char-rnn/master/data/tinyshakespeare/input.txt\n",
            "Resolving raw.githubusercontent.com (raw.githubusercontent.com)... 185.199.108.133, 185.199.109.133, 185.199.110.133, ...\n",
            "Connecting to raw.githubusercontent.com (raw.githubusercontent.com)|185.199.108.133|:443... connected.\n",
            "HTTP request sent, awaiting response... 200 OK\n",
            "Length: 1115394 (1.1M) [text/plain]\n",
            "Saving to: ‘input.txt.11’\n",
            "\n",
            "\rinput.txt.11          0%[                    ]       0  --.-KB/s               \rinput.txt.11        100%[===================>]   1.06M  --.-KB/s    in 0.08s   \n",
            "\n",
            "2025-01-20 13:11:02 (12.9 MB/s) - ‘input.txt.11’ saved [1115394/1115394]\n",
            "\n"
          ]
        }
      ]
    },
    {
      "cell_type": "markdown",
      "source": [
        "# Model Parts"
      ],
      "metadata": {
        "id": "jntQjRVWyVIK"
      }
    },
    {
      "cell_type": "code",
      "source": [
        "class MultiHeadAttention(nn.Module):\n",
        "    def __init__(self, embed_dim, num_heads):\n",
        "        super(MultiHeadAttention, self).__init__()\n",
        "        assert embed_dim % num_heads == 0, \"Embedding should be divisible on heads\"\n",
        "\n",
        "        self.embed_dim = embed_dim\n",
        "        self.num_heads = num_heads\n",
        "        self.head_dim = embed_dim // num_heads\n",
        "\n",
        "        self.qkv = nn.Linear(embed_dim, 3 * embed_dim)\n",
        "        self.proj = nn.Linear(embed_dim, embed_dim)\n",
        "        self.dropout = nn.Dropout(dropout)\n",
        "        self.scale = self.head_dim ** -0.5\n",
        "\n",
        "    def forward(self, x, mask=None):\n",
        "        batch_size, seq_len, embed_dim = x.shape\n",
        "\n",
        "        qkv = self.qkv(x).chunk(3, dim=-1)\n",
        "        q, k, v = map(lambda t: t.view(batch_size, seq_len, self.num_heads, self.head_dim).transpose(1, 2), qkv)\n",
        "\n",
        "        attn = torch.matmul(q, k.transpose(-2, -1)) * self.scale\n",
        "\n",
        "        if mask is not None:\n",
        "            mask = mask.unsqueeze(0).unsqueeze(1)\n",
        "            mask = mask.expand(batch_size, self.num_heads, seq_len, seq_len)\n",
        "            attn = attn.masked_fill(~mask, float('-inf'))\n",
        "\n",
        "        attn = F.softmax(attn, dim=-1)\n",
        "        attn = self.dropout(attn)\n",
        "\n",
        "        out = torch.matmul(attn, v)\n",
        "        out = out.transpose(1, 2).reshape(batch_size, seq_len, embed_dim)\n",
        "        out = self.proj(out)\n",
        "\n",
        "        return out\n",
        "\n",
        "class FeedFoward(nn.Module):\n",
        "  def __init__(self, dim, hidden_dim):\n",
        "    super().__init__()\n",
        "    self.net = nn.Sequential(\n",
        "        nn.Linear(dim, hidden_dim),\n",
        "        nn.GELU(),\n",
        "        nn.Dropout(dropout),\n",
        "        nn.Linear(hidden_dim, dim),\n",
        "        nn.Dropout(dropout)\n",
        "    )\n",
        "    self.norm = nn.LayerNorm(dim)\n",
        "\n",
        "  def forward(self, x):\n",
        "    return self.norm(x + self.net(x))\n",
        "\n",
        "\n",
        "class Block(nn.Module):\n",
        "    def __init__(self, n_embd, n_hidden_embd, n_head):\n",
        "        super().__init__()\n",
        "        self.sa = MultiHeadAttention(n_embd, n_head)\n",
        "        self.ffwd = FeedFoward(n_embd, n_hidden_embd)\n",
        "        self.ln1 = nn.LayerNorm(n_embd)\n",
        "\n",
        "    def forward(self, x, mask=None):\n",
        "        x = x + self.sa(self.ln1(x), mask)\n",
        "        x = self.ffwd(x)\n",
        "        return x"
      ],
      "metadata": {
        "id": "s78o3q0DyauC"
      },
      "execution_count": 24,
      "outputs": []
    },
    {
      "cell_type": "markdown",
      "source": [
        "# Model"
      ],
      "metadata": {
        "id": "8vgyE77KyqGO"
      }
    },
    {
      "cell_type": "code",
      "source": [
        "class Model(nn.Module):\n",
        "    def __init__(self):\n",
        "        super().__init__()\n",
        "\n",
        "        self.token_embedding_table = nn.Embedding(vocab_size, n_embd)\n",
        "        self.position_embedding_table = nn.Embedding(context_length, n_embd)\n",
        "        self.embedding_dropout = nn.Dropout(dropout)\n",
        "\n",
        "        self.blocks = nn.Sequential(*[Block(n_embd, n_hidden_embd, n_head=n_head) for _ in range(n_layer)])\n",
        "\n",
        "        self.norm = nn.LayerNorm(n_embd)\n",
        "\n",
        "        self.norm = nn.LayerNorm(n_embd)\n",
        "\n",
        "        self.classifier = nn.Sequential(\n",
        "          nn.Linear(n_embd, n_embd * 2),\n",
        "          nn.LayerNorm(n_embd * 2),\n",
        "          nn.GELU(),\n",
        "          nn.Dropout(dropout),\n",
        "\n",
        "          nn.Linear(n_embd * 2, n_embd),\n",
        "          nn.LayerNorm(n_embd),\n",
        "          nn.GELU(),\n",
        "          nn.Dropout(dropout),\n",
        "\n",
        "          nn.Linear(n_embd, vocab_size)\n",
        "        )\n",
        "\n",
        "    def forward(self, idx, targets=None):\n",
        "        B, T = idx.shape\n",
        "\n",
        "        mask = self.create_attention_mask(T).to(device)\n",
        "\n",
        "        tok_emb = self.token_embedding_table(idx)\n",
        "        pos_emb = self.position_embedding_table(torch.arange(T, device=device))\n",
        "        x = tok_emb + pos_emb\n",
        "        x = self.embedding_dropout(x)\n",
        "        for block in self.blocks:\n",
        "          x = block(x, mask)\n",
        "        x = self.norm(x)\n",
        "\n",
        "        logits = self.classifier(x)\n",
        "\n",
        "        if targets is None:\n",
        "            loss = None\n",
        "        else:\n",
        "            B, T, C = logits.shape\n",
        "            logits = logits.view(B*T, C)\n",
        "            targets = targets.view(B*T)\n",
        "            loss = F.cross_entropy(logits, targets)\n",
        "\n",
        "        return logits, loss\n",
        "\n",
        "    def create_attention_mask(self, seq_len):\n",
        "      mask = torch.triu(torch.ones(seq_len, seq_len), diagonal=1).bool()\n",
        "      mask = ~mask\n",
        "      return mask\n",
        "\n",
        "    def generate(self, idx, max_new_tokens):\n",
        "        # idx is (B, T) array of indices in the current context\n",
        "        for _ in range(max_new_tokens):\n",
        "            # crop idx to the last context_length tokens\n",
        "            idx_cond = idx[:, -context_length:]\n",
        "            # get the predictions\n",
        "            logits, loss = self(idx_cond)\n",
        "            # focus only on the last time step\n",
        "            logits = logits[:, -1, :] # becomes (B, C)\n",
        "            # apply softmax to get probabilities\n",
        "            probs = F.softmax(logits, dim=-1) # (B, C)\n",
        "            # sample from the distribution\n",
        "            idx_next = torch.multinomial(probs, num_samples=1) # (B, 1)\n",
        "            # append sampled index to the running sequence\n",
        "            idx = torch.cat((idx, idx_next), dim=1) # (B, T+1)\n",
        "        return idx"
      ],
      "metadata": {
        "id": "P7oBWAkay0nt"
      },
      "execution_count": 25,
      "outputs": []
    },
    {
      "cell_type": "markdown",
      "source": [
        "# Model Initialisation and training"
      ],
      "metadata": {
        "id": "qbbVWJVfystq"
      }
    },
    {
      "cell_type": "code",
      "source": [
        "@torch.no_grad()\n",
        "def estimate_loss(eval_iters):\n",
        "    out = {}\n",
        "    model.eval()\n",
        "    for split in ['val']:\n",
        "        losses = torch.zeros(eval_iters)\n",
        "        for k in range(eval_iters):\n",
        "            X, Y = get_batch(split)\n",
        "            logits, loss = model(X, Y)\n",
        "            losses[k] = loss.item()\n",
        "        out[split] = losses.mean()\n",
        "    model.train()\n",
        "    return out"
      ],
      "metadata": {
        "id": "iY3nv8vg2F-J"
      },
      "execution_count": 72,
      "outputs": []
    },
    {
      "cell_type": "code",
      "source": [
        "#  model parameters\n",
        "context_length = 32\n",
        "n_embd = 64\n",
        "n_hidden_embd = 64 * 4\n",
        "n_head = 4\n",
        "n_layer = 4\n",
        "dropout = 0.0\n",
        "# training parameters\n",
        "batch_size = 16\n",
        "max_iters = 5000\n",
        "learning_rate = 1e-3\n",
        "eval_iters = 200\n",
        "eval_interval = 500\n",
        "num_epochs = 5\n",
        "accumulation_steps = 1\n",
        "steps_per_epoch = len(train_data) // (context_length * batch_size)\n",
        "max_grad_norm = 1.0\n",
        "\n",
        "\n",
        "device = 'cuda' if torch.cuda.is_available() else 'cpu'"
      ],
      "metadata": {
        "id": "KLEN3tRMywOR"
      },
      "execution_count": 75,
      "outputs": []
    },
    {
      "cell_type": "code",
      "source": [
        "train_losses = []\n",
        "validation_losses = []"
      ],
      "metadata": {
        "id": "sHbYxQzbLQF3"
      },
      "execution_count": 78,
      "outputs": []
    },
    {
      "cell_type": "code",
      "source": [
        "def train_model(model, optimizer):\n",
        "  # scheduler = torch.optim.lr_scheduler.OneCycleLR(\n",
        "  #     optimizer,\n",
        "  #     max_lr=config['learning_rate'],\n",
        "  #     epochs=config['num_epochs'],\n",
        "  #     steps_per_epoch=config['steps_per_epoch'],\n",
        "  #     pct_start=0.1,\n",
        "  #     anneal_strategy='cos'\n",
        "  # )\n",
        "\n",
        "  best_loss = float('inf')\n",
        "  validation_loss = 0\n",
        "\n",
        "  for epoch in range(num_epochs):\n",
        "    model.train()\n",
        "    epoch_loss = 0\n",
        "    optimizer.zero_grad()\n",
        "    pbar = tqdm(range(steps_per_epoch), desc=f'Epoch {epoch+1}/{num_epochs}')\n",
        "\n",
        "    for step in pbar:\n",
        "      xb, yb = get_batch('train')\n",
        "\n",
        "      logits, loss = model(xb, yb)\n",
        "\n",
        "      loss = loss / accumulation_steps\n",
        "      loss.backward()\n",
        "\n",
        "      if (step + 1) % accumulation_steps == 0:\n",
        "        torch.nn.utils.clip_grad_norm_(model.parameters(), max_grad_norm)\n",
        "        optimizer.step()\n",
        "        optimizer.zero_grad()\n",
        "        # scheduler.step()\n",
        "\n",
        "      if (step + 1) % eval_interval == 0 or iter == max_iters - 1:\n",
        "        validation_loss = estimate_loss(eval_iters)['val'].item()\n",
        "        validation_losses.append(validation_loss)\n",
        "\n",
        "      epoch_loss += loss.item() * accumulation_steps\n",
        "      train_losses.append(loss.item() * accumulation_steps)\n",
        "\n",
        "      pbar.set_postfix({'loss': f'{epoch_loss/(step+1):.4f}', \"v_loss\": validation_loss})\n",
        "\n",
        "    avg_epoch_loss = epoch_loss / steps_per_epoch\n",
        "\n",
        "    if avg_epoch_loss < best_loss:\n",
        "        best_loss = avg_epoch_loss\n",
        "        patience_counter = 0\n",
        "        torch.save({\n",
        "            'epoch': epoch,\n",
        "            'model_state_dict': model.state_dict(),\n",
        "            'optimizer_state_dict': optimizer.state_dict(),\n",
        "            'loss': best_loss,\n",
        "        }, 'best_model.pth')\n",
        "\n",
        "    print(f'Epoch {epoch+1}/{num_epochs}, Loss: {avg_epoch_loss:.4f}, LR: {learning_rate}')\n",
        "\n",
        "  return train_losses"
      ],
      "metadata": {
        "id": "iOr9x0KcLObZ"
      },
      "execution_count": 77,
      "outputs": []
    },
    {
      "cell_type": "code",
      "source": [
        "model = Model()\n",
        "model = model.to(device)\n",
        "print(sum(p.numel() for p in model.parameters())/1e6, 'M parameters')\n",
        "\n",
        "optimizer = torch.optim.AdamW(\n",
        "    model.parameters(),\n",
        "    lr=learning_rate,\n",
        "    betas=(0.9, 0.999),\n",
        "    eps=1e-8,\n",
        "    weight_decay=0.01\n",
        ")\n",
        "\n",
        "train_losses = train_model(model, optimizer)\n",
        "\n",
        "plt.figure(figsize=(10, 6))\n",
        "plt.plot(train_losses, label='Training Loss')\n",
        "plt.xlabel('Epochs')\n",
        "plt.ylabel('Loss')\n",
        "plt.title('Training Loss Over Time')\n",
        "plt.legend()\n",
        "plt.grid(True)\n",
        "plt.show()"
      ],
      "metadata": {
        "colab": {
          "base_uri": "https://localhost:8080/",
          "height": 755
        },
        "id": "Vd7ttoJ3K03J",
        "outputId": "c9f8f242-13b4-49df-b5a4-9aa7fda00caf"
      },
      "execution_count": 79,
      "outputs": [
        {
          "output_type": "stream",
          "name": "stdout",
          "text": [
            "0.227457 M parameters\n"
          ]
        },
        {
          "output_type": "stream",
          "name": "stderr",
          "text": [
            "Epoch 1/5: 100%|██████████| 1960/1960 [01:41<00:00, 19.36it/s, loss=2.1220, v_loss=2]\n"
          ]
        },
        {
          "output_type": "stream",
          "name": "stdout",
          "text": [
            "Epoch 1/5, Loss: 2.1220, LR: 0.001\n"
          ]
        },
        {
          "output_type": "stream",
          "name": "stderr",
          "text": [
            "Epoch 2/5: 100%|██████████| 1960/1960 [01:38<00:00, 19.88it/s, loss=1.7303, v_loss=1.86]\n"
          ]
        },
        {
          "output_type": "stream",
          "name": "stdout",
          "text": [
            "Epoch 2/5, Loss: 1.7303, LR: 0.001\n"
          ]
        },
        {
          "output_type": "stream",
          "name": "stderr",
          "text": [
            "Epoch 3/5: 100%|██████████| 1960/1960 [01:39<00:00, 19.71it/s, loss=1.6304, v_loss=1.8]\n"
          ]
        },
        {
          "output_type": "stream",
          "name": "stdout",
          "text": [
            "Epoch 3/5, Loss: 1.6304, LR: 0.001\n"
          ]
        },
        {
          "output_type": "stream",
          "name": "stderr",
          "text": [
            "Epoch 4/5: 100%|██████████| 1960/1960 [01:38<00:00, 20.00it/s, loss=1.5805, v_loss=1.76]\n"
          ]
        },
        {
          "output_type": "stream",
          "name": "stdout",
          "text": [
            "Epoch 4/5, Loss: 1.5805, LR: 0.001\n"
          ]
        },
        {
          "output_type": "stream",
          "name": "stderr",
          "text": [
            "Epoch 5/5: 100%|██████████| 1960/1960 [01:38<00:00, 19.87it/s, loss=1.5492, v_loss=1.74]\n"
          ]
        },
        {
          "output_type": "stream",
          "name": "stdout",
          "text": [
            "Epoch 5/5, Loss: 1.5492, LR: 0.001\n"
          ]
        },
        {
          "output_type": "display_data",
          "data": {
            "text/plain": [
              "<Figure size 1000x600 with 1 Axes>"
            ],
            "image/png": "[encoded data removed]"
          },
          "metadata": {}
        }
      ]
    },
    {
      "cell_type": "markdown",
      "source": [
        "# Using model"
      ],
      "metadata": {
        "id": "Q-6ZYodTOmrb"
      }
    },
    {
      "cell_type": "code",
      "source": [
        "def load_best_model(model, path='best_model.pth'):\n",
        "    checkpoint = torch.load(path)\n",
        "    model.load_state_dict(checkpoint['model_state_dict'])\n",
        "    return model, checkpoint['loss']\n",
        "\n",
        "# generate from the model\n",
        "context = torch.zeros((1, 1), dtype=torch.long, device=device)\n",
        "print(decode(model.generate(context, max_new_tokens=2000)[0].tolist()))\n"
      ],
      "metadata": {
        "colab": {
          "base_uri": "https://localhost:8080/"
        },
        "id": "h8eHXpytOn7h",
        "outputId": "3f0685bc-f7c7-4f79-ac17-53a5a4ede9da"
      },
      "execution_count": 80,
      "outputs": [
        {
          "output_type": "stream",
          "name": "stdout",
          "text": [
            "\n",
            "Can ColwitES:\n",
            "Poor spotent:\n",
            "A numble is thy oof Strain'd,--'tis act in itsea?\n",
            "Before the eaked; and makes\n",
            "Which not not you will: he clearl, thou by have yours\n",
            "I maggle heep an showar wear art; his you with them\n",
            "the hear their hotest now the commised\n",
            "Amend in honourue that thone\n",
            "That, and; ave the grace\n",
            "Give desires him?\n",
            "\n",
            "Bid this hearing geated the citize lustingning yours\n",
            "That spoison, thus lose you have fatter'd ne'em!\n",
            "And thou, sing good ele. I'll matters,\n",
            "Taket obducens us more time that blay dargand\n",
            "To reamlys; and Your a horse: heat mare not; who heir; manusion'd each,\n",
            "For young me, this\n",
            "fasters else of us not in\n",
            "Bettered yousterful plact: your hand heresoling.\n",
            "\n",
            "DUCHESS OF YORK:\n",
            "Besome till perty of Rome, I ull.\n",
            "Yet.\n",
            "\n",
            "SICINIUS:\n",
            "Thy lease spreatune's eagure and thou sea let,\n",
            "And my goot whither's hold chaughts:\n",
            "Thy telmains, now and when in her?\n",
            "\n",
            "Swilt:\n",
            "Think Romen matibles, our good of solven him.\n",
            "\n",
            "HENRY BOLINGBRown I:\n",
            "whither, but it\n",
            "How\n",
            "What dours, Poling and what he hast boot outtending you womo shame\n",
            "Will ruthines; what the tear?\n",
            "\n",
            "KING RICHARD III:\n",
            "Somet!\n",
            "\n",
            "KING RICHARD III:\n",
            "That's Maries: in this too?\n",
            "\n",
            "ISI am shall of thy amity out death to burning me;\n",
            "But outation\n",
            "Stract Norforry, shrown on here\n",
            "Engry doing it withor, move; Northwarwict gentleman:\n",
            "Thy desire atter.\n",
            "Why, dost thou welcome:\n",
            "Why, I'll holse your power of that does?\n",
            "\n",
            "PARKINGHAM:\n",
            "I have done, no strumphes; hete's friend my dediness.\n",
            "I dud onfect:\n",
            "Pray, what I death: now that heat!\n",
            "\n",
            "Be death:\n",
            "The hath witiry hast love what his standed that gived dance,\n",
            "I have best out a pard, myself me smain,\n",
            "Dearnels of my gentleman.\n",
            "\n",
            "ROMEO:\n",
            "Be be shall he ware him; and to love.\n",
            "\n",
            "And Maril;\n",
            "And poweous my bless of well where's patisies,\n",
            "And footh him; Why 'tleaning such hone.\n",
            "I'll cannot; and on ceach'd: it,\n",
            "Go't to his worst; the protect bewas in the need\n",
            "He not he dangerhing and lize,\n",
            "Since God\n",
            "Fot, uncleshing whereforein's people.\n",
            "\n",
            "AUFIRomf:\n",
            "Help, weaps thou house ronound, Lord Hare\n",
            "What thou wrettle each \n"
          ]
        }
      ]
    }
  ]
}
